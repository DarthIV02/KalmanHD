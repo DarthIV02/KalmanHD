{
 "cells": [
  {
   "cell_type": "code",
   "execution_count": 1,
   "id": "4f6b2c2f",
   "metadata": {},
   "outputs": [],
   "source": [
    "from multipletimeseriesforecasting.experiments.DatasetLoader import DatasetLoader\n",
    "import os"
   ]
  },
  {
   "cell_type": "code",
   "execution_count": 2,
   "id": "f8c31ee5",
   "metadata": {
    "scrolled": true
   },
   "outputs": [
    {
     "name": "stdout",
     "output_type": "stream",
     "text": [
      "---------------------------------------------------\n",
      "Dataset name:  EnergyConsumptionFraunhofer\n",
      "Dataset contains missing values?  False\n",
      "---------------------------------------------------\n",
      "Dataset shape: (314, 365)\n",
      "This dataset has 314 series, and each series has 365 time steps\n",
      "Max value: 11.575375 , Min value: 0.0\n",
      "[[0.10720833 0.14533333 0.453875   ... 0.262      0.049375   0.05383333]\n",
      " [0.119875   0.11254167 0.29775    ... 0.11616667 0.114875   0.11829167]\n",
      " [0.43283333 0.394375   0.532375   ... 0.26275    0.32554167 0.372625  ]\n",
      " ...\n",
      " [0.48408333 0.53516667 0.58883333 ... 0.34216667 0.37916667 0.34541667]\n",
      " [0.87645833 1.03104167 1.10508333 ... 0.73691667 1.05379167 0.946125  ]\n",
      " [0.10770833 0.043375   0.04141667 ... 0.03891667 0.07445833 0.127625  ]]\n"
     ]
    }
   ],
   "source": [
    "parent = 'multipletimeseriesforecasting/preprocessed-data/'\n",
    "\n",
    "path = os.path.join(parent, 'EnergyConsumptionFraunhofer/electrFraunhofer_daily.csv')\n",
    "\n",
    "dl = DatasetLoader('EnergyConsumptionFraunhofer', path)\n",
    "\n",
    "matrix_1 = dl.dataset_load_and_preprocess()\n",
    "print(matrix_1)\n",
    "\n",
    "# Mean daily consumption of energy in kWh of a customer's household in Spain\n",
    "# from Jan 1 2019 - Dec. 31 2019"
   ]
  },
  {
   "cell_type": "code",
   "execution_count": 3,
   "id": "d3af79df",
   "metadata": {},
   "outputs": [
    {
     "name": "stdout",
     "output_type": "stream",
     "text": [
      "11.575375\n"
     ]
    }
   ],
   "source": [
    "print(matrix_1.max())"
   ]
  },
  {
   "cell_type": "code",
   "execution_count": 4,
   "id": "41fbc7a3",
   "metadata": {},
   "outputs": [
    {
     "data": {
      "text/plain": [
       "(314, 365)"
      ]
     },
     "execution_count": 4,
     "metadata": {},
     "output_type": "execute_result"
    }
   ],
   "source": [
    "matrix_1.shape"
   ]
  },
  {
   "cell_type": "code",
   "execution_count": 5,
   "id": "249200f8",
   "metadata": {},
   "outputs": [
    {
     "data": {
      "text/plain": [
       "0.9441666666666668"
      ]
     },
     "execution_count": 5,
     "metadata": {},
     "output_type": "execute_result"
    }
   ],
   "source": [
    "matrix_1[0].max()"
   ]
  },
  {
   "cell_type": "code",
   "execution_count": 6,
   "id": "bfd73547",
   "metadata": {},
   "outputs": [],
   "source": [
    "import numpy as np"
   ]
  },
  {
   "cell_type": "code",
   "execution_count": 7,
   "id": "d6a7a932",
   "metadata": {},
   "outputs": [],
   "source": [
    "def normalize(matrix):\n",
    "    matrix_sc = np.empty([matrix.shape[0], matrix.shape[1]])\n",
    "    for i in range(matrix.shape[0]): # for each time series\n",
    "        if (matrix[i].max() != matrix[i].min()): # Check that they're diffrent values\n",
    "            y_sc = matrix[i] - matrix[i].min()\n",
    "            y_sc = y_sc/(matrix[i].max() - matrix[i].min())\n",
    "        else:\n",
    "            y_sc = matrix[i]\n",
    "        matrix_sc[i] = y_sc\n",
    "    return matrix_sc"
   ]
  },
  {
   "cell_type": "code",
   "execution_count": 8,
   "id": "ced437bd",
   "metadata": {},
   "outputs": [
    {
     "data": {
      "text/plain": [
       "(314, 365)"
      ]
     },
     "execution_count": 8,
     "metadata": {},
     "output_type": "execute_result"
    }
   ],
   "source": [
    "matrix_1_sc = normalize(matrix_1)\n",
    "matrix_1_sc.shape"
   ]
  },
  {
   "cell_type": "code",
   "execution_count": 31,
   "id": "9376d3da",
   "metadata": {},
   "outputs": [
    {
     "name": "stdout",
     "output_type": "stream",
     "text": [
      "(314, 365)\n",
      "1.0\n",
      "0.0\n"
     ]
    }
   ],
   "source": [
    "print(matrix_1_sc.shape)\n",
    "print(matrix_1_sc.max())\n",
    "print(matrix_1_sc.min())"
   ]
  },
  {
   "cell_type": "code",
   "execution_count": 110,
   "id": "e43dfcd1",
   "metadata": {},
   "outputs": [
    {
     "name": "stdout",
     "output_type": "stream",
     "text": [
      "(314, 40)\n",
      "[[0.1135481  0.15392763 0.48071492 ... 0.78879082 0.61910856 0.68036187]\n",
      " [0.04251918 0.02845269 0.38371164 ... 0.33807545 0.36413043 0.35270141]\n",
      " [0.62563724 0.55744366 0.80214259 ... 0.56062061 0.23206502 0.4139638 ]\n",
      " ...\n",
      " [0.49575703 0.55659769 0.62051511 ... 0.23070815 0.44652871 0.31060493]\n",
      " [0.33945801 0.43725945 0.48410397 ... 0.48043971 0.4447725  0.33350029]\n",
      " [0.17330501 0.03664365 0.03248363 ... 0.28518322 0.28261639 0.27633209]]\n"
     ]
    }
   ],
   "source": [
    "print(matrix_1_sc[:, :40].shape)\n",
    "print(matrix_1_sc[:, :40])"
   ]
  },
  {
   "cell_type": "code",
   "execution_count": 40,
   "id": "aceb19d4",
   "metadata": {},
   "outputs": [
    {
     "name": "stdout",
     "output_type": "stream",
     "text": [
      "365\n",
      "tensor(0.1135, dtype=torch.float64)\n",
      "tensor([[ 1.,  1., -1.,  ...,  1.,  1., -1.],\n",
      "        [ 1.,  1., -1.,  ...,  1.,  1., -1.],\n",
      "        [ 1.,  1., -1.,  ...,  1.,  1., -1.],\n",
      "        ...,\n",
      "        [ 1.,  1., -1.,  ...,  1.,  1., -1.],\n",
      "        [ 1.,  1., -1.,  ...,  1.,  1., -1.],\n",
      "        [ 1.,  1., -1.,  ...,  1.,  1., -1.]])\n",
      "365\n"
     ]
    }
   ],
   "source": [
    "from torchhd import embeddings, functional\n",
    "import torch\n",
    "\n",
    "print(len(matrix_1_sc[0]))\n",
    "data = torch.tensor(matrix_1_sc[0])\n",
    "print(data[0])\n",
    "\n",
    "d = 10000 # dimensions\n",
    "level = embeddings.Level(1000, d, low=0, high=1) # Just because 0 - 1 with a .001 precision\n",
    "print(level(data))\n",
    "print(len(level(data)))"
   ]
  },
  {
   "cell_type": "code",
   "execution_count": 114,
   "id": "67247339",
   "metadata": {},
   "outputs": [],
   "source": [
    "from tqdm import tqdm\n",
    "\n",
    "def encode(matrix): # Expects all the dataset normalized\n",
    "    level = embeddings.Level(1000, d, low=0, high=1) # Just because 0 - 1 with a .001 precision\n",
    "    matrix_hv = torch.zeros(matrix.shape[0], d)\n",
    "    for ts in tqdm(range(matrix.shape[0])): # for each fraction of time series\n",
    "        x = torch.zeros(d)\n",
    "        data = torch.tensor(matrix[ts]) # Transform the whole time serie into tensors\n",
    "        ts_hv = level(data) # Transform the whole time serie into hvs\n",
    "        for i in range(len(ts_hv)): # for each hv = number in the timeseries\n",
    "            for _ in range(i):\n",
    "                functional.permute(ts_hv[i])\n",
    "            x = functional.bundle(x, ts_hv[i])\n",
    "        matrix_hv[ts] = functional.hard_quantize(x)\n",
    "    return matrix_hv"
   ]
  },
  {
   "cell_type": "code",
   "execution_count": 119,
   "id": "e7203a11",
   "metadata": {},
   "outputs": [
    {
     "name": "stderr",
     "output_type": "stream",
     "text": [
      "100%|█| 314/314 [00:02<00:00, 11\n"
     ]
    },
    {
     "data": {
      "text/plain": [
       "tensor(0.8044)"
      ]
     },
     "execution_count": 119,
     "metadata": {},
     "output_type": "execute_result"
    }
   ],
   "source": [
    "encoded = encode(matrix_1_sc[:, :40])\n",
    "functional.cosine_similarity(encoded[1], encoded[101])"
   ]
  },
  {
   "cell_type": "code",
   "execution_count": 54,
   "id": "5e250168",
   "metadata": {},
   "outputs": [
    {
     "name": "stdout",
     "output_type": "stream",
     "text": [
      "torch.Size([365])\n",
      "tensor([0., 0., 0., 0., 0., 0., 0., 0., 0., 0., 0., 0., 0., 0., 0., 0., 0., 0., 0., 0., 0., 0., 0., 0.,\n",
      "        0., 0., 0., 0., 0., 0., 0., 0., 0., 0., 0., 0., 0., 0., 0., 0., 0., 0., 0., 0., 0., 0., 0., 0.,\n",
      "        0., 0., 0., 0., 0., 0., 0., 0., 0., 0., 0., 0., 0., 0., 0., 0., 0., 0., 0., 0., 0., 0., 0., 0.,\n",
      "        0., 0., 0., 0., 0., 0., 0., 0., 0., 0., 0., 0., 0., 0., 0., 0., 0., 0., 0., 0., 0., 0., 0., 0.,\n",
      "        0., 0., 0., 0., 0., 0., 0., 0., 0., 0., 0., 0., 0., 0., 0., 0., 0., 0., 0., 0., 0., 0., 0., 0.,\n",
      "        0., 0., 0., 0., 0., 0., 0., 0., 0., 0., 0., 0., 0., 0., 0., 0., 0., 0., 0., 0., 0., 0., 0., 0.,\n",
      "        0., 0., 0., 0., 0., 0., 0., 0., 0., 0., 0., 0., 0., 0., 0., 0., 0., 0., 0., 0., 0., 0., 0., 0.,\n",
      "        0., 0., 0., 0., 0., 0., 0., 0., 0., 0., 0., 0., 0., 0., 0., 0., 0., 0., 0., 0., 0., 0., 0., 0.,\n",
      "        0., 0., 0., 0., 0., 0., 0., 0., 0., 0., 0., 0., 0., 0., 0., 0., 0., 0., 0., 0., 0., 0., 0., 0.,\n",
      "        0., 0., 0., 0., 0., 0., 0., 0., 0., 0., 0., 0., 0., 0., 0., 0., 0., 0., 0., 0., 0., 0., 0., 0.,\n",
      "        0., 0., 0., 0., 0., 0., 0., 0., 0., 0., 0., 0., 0., 0., 0., 0., 0., 0., 0., 0., 0., 0., 0., 0.,\n",
      "        0., 0., 0., 0., 0., 0., 0., 0., 0., 0., 0., 0., 0., 0., 0., 0., 0., 0., 0., 0., 0., 0., 0., 0.,\n",
      "        0., 0., 0., 0., 0., 0., 0., 0., 0., 0., 0., 0., 0., 0., 0., 0., 0., 0., 0., 0., 0., 0., 0., 0.,\n",
      "        0., 0., 0., 0., 0., 0., 0., 0., 0., 0., 0., 0., 0., 0., 0., 0., 0., 0., 0., 0., 0., 0., 0., 0.,\n",
      "        0., 0., 0., 0., 0., 0., 0., 0., 0., 0., 0., 0., 0., 0., 0., 0., 0., 0., 0., 0., 0., 0., 0., 0.,\n",
      "        0., 0., 0., 0., 0.], dtype=torch.float64)\n"
     ]
    }
   ],
   "source": [
    "x = np.zeros((365))\n",
    "x = torch.tensor(x)\n",
    "\n",
    "#m_x = [h = 0 for h in x]\n",
    "print(x.shape)\n",
    "print(x)"
   ]
  },
  {
   "cell_type": "code",
   "execution_count": 9,
   "id": "c5012c25",
   "metadata": {},
   "outputs": [
    {
     "ename": "NameError",
     "evalue": "name 'ds' is not defined",
     "output_type": "error",
     "traceback": [
      "\u001b[1;31m---------------------------------------------------------------------------\u001b[0m",
      "\u001b[1;31mNameError\u001b[0m                                 Traceback (most recent call last)",
      "Input \u001b[1;32mIn [9]\u001b[0m, in \u001b[0;36m<cell line: 2>\u001b[1;34m()\u001b[0m\n\u001b[0;32m      1\u001b[0m \u001b[38;5;66;03m# Get necessary statistics for data and target transform\u001b[39;00m\n\u001b[1;32m----> 2\u001b[0m STD_DEVS \u001b[38;5;241m=\u001b[39m \u001b[43mds\u001b[49m\u001b[38;5;241m.\u001b[39mdata\u001b[38;5;241m.\u001b[39mstd(\u001b[38;5;241m0\u001b[39m) \u001b[38;5;66;03m# Statistics of data by columns \u001b[39;00m\n\u001b[0;32m      3\u001b[0m MEANS \u001b[38;5;241m=\u001b[39m ds\u001b[38;5;241m.\u001b[39mdata\u001b[38;5;241m.\u001b[39mmean(\u001b[38;5;241m0\u001b[39m)\n\u001b[0;32m      4\u001b[0m TARGET_STD \u001b[38;5;241m=\u001b[39m ds\u001b[38;5;241m.\u001b[39mtargets\u001b[38;5;241m.\u001b[39mstd(\u001b[38;5;241m0\u001b[39m) \u001b[38;5;66;03m# Statistics of the variable you want to predict by columns\u001b[39;00m\n",
      "\u001b[1;31mNameError\u001b[0m: name 'ds' is not defined"
     ]
    }
   ],
   "source": [
    "# Get necessary statistics for data and target transform\n",
    "STD_DEVS = ds.data.std(0) # Statistics of data by columns \n",
    "MEANS = ds.data.mean(0)\n",
    "TARGET_STD = ds.targets.std(0) # Statistics of the variable you want to predict by columns\n",
    "TARGET_MEAN = ds.targets.mean(0)\n",
    "\n",
    "def transform(x): # calculate the probability of a score occurring within a standard normal distribution\n",
    "                  # Zscore\n",
    "    x = x - MEANS \n",
    "    x = x / STD_DEVS\n",
    "    return x\n",
    "\n",
    "\n",
    "def target_transform(x): # Same thing with target\n",
    "    x = x - TARGET_MEAN\n",
    "    x = x / TARGET_STD\n",
    "    return x"
   ]
  },
  {
   "cell_type": "code",
   "execution_count": 98,
   "id": "1372b8b2",
   "metadata": {
    "scrolled": true
   },
   "outputs": [
    {
     "name": "stderr",
     "output_type": "stream",
     "text": [
      "  0%|                                                                                           | 0/10 [00:00<?, ?it/s]C:\\Users\\ivann\\AppData\\Local\\Temp\\ipykernel_8344\\3420759963.py:87: FutureWarning: The input object of type 'Tensor' is an array-like implementing one of the corresponding protocols (`__array__`, `__array_interface__` or `__array_struct__`); but not a sequence (or 0-D). In the future, this object will be coerced as if it was first converted using `np.array(obj)`. To retain the old behaviour, you have to either modify the type 'Tensor', or assign to an empty array created with `np.empty(correct_shape, dtype=object)`.\n",
      "  time_arr.append(np.absolute(np.sum(labels-pred)))\n",
      "C:\\Users\\ivann\\AppData\\Local\\Temp\\ipykernel_8344\\3420759963.py:87: VisibleDeprecationWarning: Creating an ndarray from ragged nested sequences (which is a list-or-tuple of lists-or-tuples-or ndarrays with different lengths or shapes) is deprecated. If you meant to do this, you must specify 'dtype=object' when creating the ndarray.\n",
      "  time_arr.append(np.absolute(np.sum(labels-pred)))\n",
      " 10%|████████▎                                                                          | 1/10 [00:04<00:43,  4.78s/it]"
     ]
    },
    {
     "name": "stdout",
     "output_type": "stream",
     "text": [
      "Testing mean squared error of 0.022\n"
     ]
    },
    {
     "name": "stderr",
     "output_type": "stream",
     "text": [
      "\r\n",
      " 20%|████████████████▌                                                                  | 2/10 [00:09<00:38,  4.75s/it]"
     ]
    },
    {
     "name": "stdout",
     "output_type": "stream",
     "text": [
      "Testing mean squared error of 0.016\n"
     ]
    },
    {
     "name": "stderr",
     "output_type": "stream",
     "text": [
      "\r\n",
      " 30%|████████████████████████▉                                                          | 3/10 [00:14<00:33,  4.74s/it]"
     ]
    },
    {
     "name": "stdout",
     "output_type": "stream",
     "text": [
      "Testing mean squared error of 0.013\n"
     ]
    },
    {
     "name": "stderr",
     "output_type": "stream",
     "text": [
      "\r\n",
      " 40%|█████████████████████████████████▏                                                 | 4/10 [00:18<00:28,  4.74s/it]"
     ]
    },
    {
     "name": "stdout",
     "output_type": "stream",
     "text": [
      "Testing mean squared error of 0.012\n"
     ]
    },
    {
     "name": "stderr",
     "output_type": "stream",
     "text": [
      "\r\n",
      " 50%|█████████████████████████████████████████▌                                         | 5/10 [00:23<00:23,  4.80s/it]"
     ]
    },
    {
     "name": "stdout",
     "output_type": "stream",
     "text": [
      "Testing mean squared error of 0.010\n"
     ]
    },
    {
     "name": "stderr",
     "output_type": "stream",
     "text": [
      "\r\n",
      " 60%|█████████████████████████████████████████████████▊                                 | 6/10 [00:28<00:19,  4.76s/it]"
     ]
    },
    {
     "name": "stdout",
     "output_type": "stream",
     "text": [
      "Testing mean squared error of 0.009\n"
     ]
    },
    {
     "name": "stderr",
     "output_type": "stream",
     "text": [
      "\r\n",
      " 70%|██████████████████████████████████████████████████████████                         | 7/10 [00:33<00:14,  4.80s/it]"
     ]
    },
    {
     "name": "stdout",
     "output_type": "stream",
     "text": [
      "Testing mean squared error of 0.008\n"
     ]
    },
    {
     "name": "stderr",
     "output_type": "stream",
     "text": [
      "\r\n",
      " 80%|██████████████████████████████████████████████████████████████████▍                | 8/10 [00:38<00:09,  4.84s/it]"
     ]
    },
    {
     "name": "stdout",
     "output_type": "stream",
     "text": [
      "Testing mean squared error of 0.007\n"
     ]
    },
    {
     "name": "stderr",
     "output_type": "stream",
     "text": [
      "\r\n",
      " 90%|██████████████████████████████████████████████████████████████████████████▋        | 9/10 [00:43<00:04,  4.85s/it]"
     ]
    },
    {
     "name": "stdout",
     "output_type": "stream",
     "text": [
      "Testing mean squared error of 0.007\n"
     ]
    },
    {
     "name": "stderr",
     "output_type": "stream",
     "text": [
      "100%|██████████████████████████████████████████████████████████████████████████████████| 10/10 [00:48<00:00,  4.83s/it]"
     ]
    },
    {
     "name": "stdout",
     "output_type": "stream",
     "text": [
      "Testing mean squared error of 0.006\n"
     ]
    },
    {
     "name": "stderr",
     "output_type": "stream",
     "text": [
      "\n"
     ]
    }
   ],
   "source": [
    "import math\n",
    "import torch\n",
    "import torch.nn as nn\n",
    "import torch.nn.functional as F\n",
    "import torch.utils.data as data\n",
    "\n",
    "# Note: this example requires the torchmetrics library: https://torchmetrics.readthedocs.io\n",
    "import torchmetrics\n",
    "from tqdm import tqdm\n",
    "\n",
    "from torchhd import functional\n",
    "from torchhd import embeddings\n",
    "\n",
    "import time\n",
    "\n",
    "d=10000\n",
    "\n",
    "# Model based on RegHD application for Single model regression -> No comparing which cluster\n",
    "class SingleModel_With_NonLinear_Sin(nn.Module):\n",
    "    def __init__(self, num_classes, size):\n",
    "        super(SingleModel_With_NonLinear_Sin, self).__init__()\n",
    "\n",
    "        self.lr = 0.00001 # alpha\n",
    "        self.M = torch.zeros(1, d).double() # Model initializes in 0\n",
    "        self.project = embeddings.Projection(size, d).double() # 5 features, 10000 dimensions = hypervectors like weights?\n",
    "        self.project.weight.data.normal_(0, 1) # Normal distributions mean=0.0, std=1.0\n",
    "        self.bias = nn.parameter.Parameter(torch.empty(d), requires_grad=False)\n",
    "        self.bias.data.uniform_(0, 2 * math.pi) # bias\n",
    "\n",
    "    def encode(self, x): # encoding a value\n",
    "        for i in range(len(x)):\n",
    "            x[i] = float(x[i])\n",
    "        enc = self.project(x)\n",
    "        sample_hv = torch.cos(enc + self.bias) * torch.sin(enc) \n",
    "        return functional.hard_quantize(sample_hv)\n",
    "\n",
    "    def model_update(self, x, y): # update # y = no hv\n",
    "        update = self.M + self.lr * (y - (F.linear(x, self.M))) * x # Model + alpha*(Error)*(x)\n",
    "        #update = update.mean(0) # Mean by columns\n",
    "        self.M = update # New \n",
    "\n",
    "    def forward(self, x):\n",
    "        enc = self.encode(x)\n",
    "        res = F.linear(enc, self.M) # Multiply enc (x) * weights (Model) = Dot product\n",
    "        return res # Return the resolutions\n",
    "    \n",
    "model = SingleModel_With_NonLinear_Sin(2, 40) # 1 class, 5\n",
    "#model = model.to(device)\n",
    "\n",
    "#mse = torchmetrics.MeanSquaredError()\n",
    "    \n",
    "# Model training\n",
    "\n",
    "start_time = time.time()\n",
    "time_arr = []\n",
    "#main()\n",
    "#print(\"--- %s seconds ---\" % (time.time() - start_time))\n",
    "\n",
    "with torch.no_grad(): # disabled gradient calculation because were doing it manually\n",
    "    for _ in tqdm(range(10)): # Number of iterations for all the samples\n",
    "        mse = torchmetrics.MeanSquaredError()\n",
    "        for i in [234, 110, 248, 9, 93, 219, 28, 198, 203, 101, 181, 255]:\n",
    "            pred = []\n",
    "            samples = matrix_1_sc[:, i:i+40]\n",
    "            labels = matrix_1_sc[:, i+40]\n",
    "            #print(f\"sample: {samples}, label:{labels}\")\n",
    "            #samples = samples.to(device) # pass sample and label (1 at a time)\n",
    "            #labels = labels.to(device)\n",
    "            \n",
    "            for n in range(samples.shape[0]):\n",
    "                label = torch.tensor(labels[n])\n",
    "                sample = torch.tensor(samples[n, :])\n",
    "                #print(x)\n",
    "                #samples = \n",
    "                samples_hv = model.encode(sample) # Encode the inputs\n",
    "                #print(f\"sample_hv:{samples_hv}\")\n",
    "                model.model_update(samples_hv, label) # Pass input and label to train\n",
    "\n",
    "                predictions_testing = model(sample) # Pass samples from test to model (forward function)\n",
    "                pred.append(predictions_testing)\n",
    "                #predictions_testing = predictions_testing\n",
    "                #label = label\n",
    "                mse.update(predictions_testing, label.unsqueeze(dim=0))\n",
    "                #mse.update(predictions_testing.cpu(), label)\n",
    "            \n",
    "            #time_arr.append((time.time() - start_time, np.absolute(np.sum(labels-pred))))\n",
    "            time_arr.append(np.absolute(np.sum(labels-pred)))\n",
    "\n",
    "        print(f\"Testing mean squared error of {(mse.compute().item()):.3f}\")"
   ]
  },
  {
   "cell_type": "code",
   "execution_count": 93,
   "id": "daf4bb99",
   "metadata": {},
   "outputs": [],
   "source": [
    "time_arr1 = time_arr"
   ]
  },
  {
   "cell_type": "code",
   "execution_count": 51,
   "id": "057cbb59",
   "metadata": {},
   "outputs": [
    {
     "name": "stderr",
     "output_type": "stream",
     "text": [
      "C:\\Users\\ivann\\AppData\\Local\\Temp\\ipykernel_8344\\693390989.py:8: FutureWarning: The input object of type 'Tensor' is an array-like implementing one of the corresponding protocols (`__array__`, `__array_interface__` or `__array_struct__`); but not a sequence (or 0-D). In the future, this object will be coerced as if it was first converted using `np.array(obj)`. To retain the old behaviour, you have to either modify the type 'Tensor', or assign to an empty array created with `np.empty(correct_shape, dtype=object)`.\n",
      "  yaxis_1 = np.array([i[1] for i in time_arr])\n",
      "C:\\Users\\ivann\\AppData\\Local\\Temp\\ipykernel_8344\\693390989.py:8: VisibleDeprecationWarning: Creating an ndarray from ragged nested sequences (which is a list-or-tuple of lists-or-tuples-or ndarrays with different lengths or shapes) is deprecated. If you meant to do this, you must specify 'dtype=object' when creating the ndarray.\n",
      "  yaxis_1 = np.array([i[1] for i in time_arr])\n"
     ]
    },
    {
     "data": {
      "text/plain": [
       "[<matplotlib.lines.Line2D at 0x1ceaf9918b0>]"
      ]
     },
     "execution_count": 51,
     "metadata": {},
     "output_type": "execute_result"
    },
    {
     "data": {
      "image/png": "[encoded data removed]",
      "text/plain": [
       "<Figure size 432x288 with 1 Axes>"
      ]
     },
     "metadata": {
      "needs_background": "light"
     },
     "output_type": "display_data"
    }
   ],
   "source": [
    "import matplotlib.pyplot as plt\n",
    "import numpy as np\n",
    "\n",
    "# X axis parameter:\n",
    "time_axis_1 = np.array([i[0] for i in time_arr])\n",
    "\n",
    "# Y axis parameter:\n",
    "yaxis_1 = np.array([i[1] for i in time_arr])\n",
    "\n",
    "plt.plot(time_axis_1, yaxis_1, \"b\")"
   ]
  },
  {
   "cell_type": "raw",
   "id": "22004361",
   "metadata": {},
   "source": [
    "With 10% is like 1 iteration"
   ]
  },
  {
   "cell_type": "code",
   "execution_count": 99,
   "id": "0f6f6298",
   "metadata": {},
   "outputs": [
    {
     "name": "stderr",
     "output_type": "stream",
     "text": [
      "\r\n",
      "  0%|                                                                                            | 0/3 [00:00<?, ?it/s]"
     ]
    },
    {
     "name": "stdout",
     "output_type": "stream",
     "text": [
      "(314, 40)\n",
      "(314,)\n"
     ]
    },
    {
     "name": "stderr",
     "output_type": "stream",
     "text": [
      " 67%|████████████████████████████████████████████████████████                            | 2/3 [00:00<00:00,  4.78it/s]"
     ]
    },
    {
     "name": "stdout",
     "output_type": "stream",
     "text": [
      "(314, 40)\n",
      "(314,)\n",
      "(314, 40)\n",
      "(314,)\n"
     ]
    },
    {
     "name": "stderr",
     "output_type": "stream",
     "text": [
      "100%|████████████████████████████████████████████████████████████████████████████████████| 3/3 [00:00<00:00,  4.76it/s]"
     ]
    },
    {
     "name": "stdout",
     "output_type": "stream",
     "text": [
      "Testing mean squared error of 0.029\n"
     ]
    },
    {
     "name": "stderr",
     "output_type": "stream",
     "text": [
      "\n"
     ]
    }
   ],
   "source": [
    "# Model accuracy\n",
    "# 317, 139, 320\n",
    "\n",
    "with torch.no_grad():\n",
    "    mse = torchmetrics.MeanSquaredError()\n",
    "    for i in tqdm([317, 139, 320]):\n",
    "        samples = matrix_1_sc[:, i:i+40]\n",
    "        print(samples.shape)\n",
    "        labels = matrix_1_sc[:, i+40]\n",
    "        print(labels.shape)\n",
    "        for n in range(samples.shape[0]):\n",
    "            label = torch.tensor(labels[n])\n",
    "            sample = torch.tensor(samples[n, :])\n",
    "            predictions = model(sample) # Pass samples from test to model (forward function)\n",
    "            #predictions = predictions * TARGET_STD + TARGET_MEAN # What is target\n",
    "            #labels = labels * TARGET_STD + TARGET_MEAN\n",
    "            mse.update(predictions, label.unsqueeze(dim=0))\n",
    "    \n",
    "\n",
    "print(f\"Testing mean squared error of {(mse.compute().item()):.3f}\")"
   ]
  },
  {
   "cell_type": "code",
   "execution_count": 103,
   "id": "195ca0f8",
   "metadata": {},
   "outputs": [
    {
     "name": "stderr",
     "output_type": "stream",
     "text": [
      "  0%|                                                                                           | 0/10 [00:00<?, ?it/s]C:\\Users\\ivann\\AppData\\Local\\Temp\\ipykernel_8344\\3609242651.py:64: FutureWarning: The input object of type 'Tensor' is an array-like implementing one of the corresponding protocols (`__array__`, `__array_interface__` or `__array_struct__`); but not a sequence (or 0-D). In the future, this object will be coerced as if it was first converted using `np.array(obj)`. To retain the old behaviour, you have to either modify the type 'Tensor', or assign to an empty array created with `np.empty(correct_shape, dtype=object)`.\n",
      "  time_arr.append(np.absolute(np.sum(labels-pred)))\n",
      "C:\\Users\\ivann\\AppData\\Local\\Temp\\ipykernel_8344\\3609242651.py:64: VisibleDeprecationWarning: Creating an ndarray from ragged nested sequences (which is a list-or-tuple of lists-or-tuples-or ndarrays with different lengths or shapes) is deprecated. If you meant to do this, you must specify 'dtype=object' when creating the ndarray.\n",
      "  time_arr.append(np.absolute(np.sum(labels-pred)))\n",
      " 10%|████████▎                                                                          | 1/10 [00:02<00:19,  2.15s/it]"
     ]
    },
    {
     "name": "stdout",
     "output_type": "stream",
     "text": [
      "Training mean squared error of training 0.017\n"
     ]
    },
    {
     "name": "stderr",
     "output_type": "stream",
     "text": [
      "\r\n",
      " 20%|████████████████▌                                                                  | 2/10 [00:04<00:16,  2.12s/it]"
     ]
    },
    {
     "name": "stdout",
     "output_type": "stream",
     "text": [
      "Training mean squared error of training 0.011\n"
     ]
    },
    {
     "name": "stderr",
     "output_type": "stream",
     "text": [
      "\r\n",
      " 30%|████████████████████████▉                                                          | 3/10 [00:06<00:14,  2.06s/it]"
     ]
    },
    {
     "name": "stdout",
     "output_type": "stream",
     "text": [
      "Training mean squared error of training 0.009\n"
     ]
    },
    {
     "name": "stderr",
     "output_type": "stream",
     "text": [
      "\r\n",
      " 40%|█████████████████████████████████▏                                                 | 4/10 [00:08<00:12,  2.06s/it]"
     ]
    },
    {
     "name": "stdout",
     "output_type": "stream",
     "text": [
      "Training mean squared error of training 0.008\n"
     ]
    },
    {
     "name": "stderr",
     "output_type": "stream",
     "text": [
      "\r\n",
      " 50%|█████████████████████████████████████████▌                                         | 5/10 [00:10<00:10,  2.04s/it]"
     ]
    },
    {
     "name": "stdout",
     "output_type": "stream",
     "text": [
      "Training mean squared error of training 0.008\n"
     ]
    },
    {
     "name": "stderr",
     "output_type": "stream",
     "text": [
      "\r\n",
      " 60%|█████████████████████████████████████████████████▊                                 | 6/10 [00:12<00:08,  2.05s/it]"
     ]
    },
    {
     "name": "stdout",
     "output_type": "stream",
     "text": [
      "Training mean squared error of training 0.007\n"
     ]
    },
    {
     "name": "stderr",
     "output_type": "stream",
     "text": [
      "\r\n",
      " 70%|██████████████████████████████████████████████████████████                         | 7/10 [00:14<00:06,  2.05s/it]"
     ]
    },
    {
     "name": "stdout",
     "output_type": "stream",
     "text": [
      "Training mean squared error of training 0.006\n"
     ]
    },
    {
     "name": "stderr",
     "output_type": "stream",
     "text": [
      "\r\n",
      " 80%|██████████████████████████████████████████████████████████████████▍                | 8/10 [00:16<00:04,  2.04s/it]"
     ]
    },
    {
     "name": "stdout",
     "output_type": "stream",
     "text": [
      "Training mean squared error of training 0.006\n"
     ]
    },
    {
     "name": "stderr",
     "output_type": "stream",
     "text": [
      "\r\n",
      " 90%|██████████████████████████████████████████████████████████████████████████▋        | 9/10 [00:18<00:02,  2.06s/it]"
     ]
    },
    {
     "name": "stdout",
     "output_type": "stream",
     "text": [
      "Training mean squared error of training 0.006\n"
     ]
    },
    {
     "name": "stderr",
     "output_type": "stream",
     "text": [
      "100%|██████████████████████████████████████████████████████████████████████████████████| 10/10 [00:20<00:00,  2.06s/it]\n"
     ]
    },
    {
     "name": "stdout",
     "output_type": "stream",
     "text": [
      "Training mean squared error of training 0.005\n"
     ]
    },
    {
     "name": "stderr",
     "output_type": "stream",
     "text": [
      " 33%|████████████████████████████                                                        | 1/3 [00:00<00:00,  9.12it/s]"
     ]
    },
    {
     "name": "stdout",
     "output_type": "stream",
     "text": [
      "(314, 40)\n",
      "(314,)\n",
      "(314, 40)\n",
      "(314,)\n",
      "(314, 40)\n",
      "(314,)\n"
     ]
    },
    {
     "name": "stderr",
     "output_type": "stream",
     "text": [
      "100%|████████████████████████████████████████████████████████████████████████████████████| 3/3 [00:00<00:00, 10.20it/s]"
     ]
    },
    {
     "name": "stdout",
     "output_type": "stream",
     "text": [
      "Testing mean squared error of testing 0.026\n"
     ]
    },
    {
     "name": "stderr",
     "output_type": "stream",
     "text": [
      "\n"
     ]
    }
   ],
   "source": [
    "# Model based on RegHD application for Single model regression -> No comparing which cluster\n",
    "class SingleModel_With_NonLinear(nn.Module):\n",
    "    def __init__(self, num_classes, size):\n",
    "        super(SingleModel_With_NonLinear, self).__init__()\n",
    "\n",
    "        self.lr = 0.00001 # alpha\n",
    "        self.M = torch.zeros(1, d).double() # Model initializes in 0\n",
    "        self.project = embeddings.Projection(size, d).double() # 5 features, 10000 dimensions = hypervectors like weights?\n",
    "        self.project.weight.data.normal_(0, 1) # Normal distributions mean=0.0, std=1.0\n",
    "        self.bias = nn.parameter.Parameter(torch.empty(d), requires_grad=False)\n",
    "        self.bias.data.uniform_(0, 2 * math.pi) # bias\n",
    "\n",
    "    def encode(self, x): # encoding a value\n",
    "        enc = self.project(x)\n",
    "        sample_hv = torch.cos(enc + self.bias)\n",
    "        return functional.hard_quantize(sample_hv)\n",
    "\n",
    "    def model_update(self, x, y): # update # y = no hv\n",
    "        update = self.M + self.lr * (y - (F.linear(x, self.M))) * x # Model + alpha*(Error)*(x)\n",
    "        #update = update.mean(0) # Mean by columns\n",
    "        self.M = update # New \n",
    "\n",
    "    def forward(self, x):\n",
    "        enc = self.encode(x)\n",
    "        res = F.linear(enc, self.M) # Multiply enc (x) * weights (Model) = Dot product\n",
    "        return res # Return the resolutions\n",
    "    \n",
    "model = SingleModel_With_NonLinear(2, 40) # 1 class, 5\n",
    "#model = model.to(device)\n",
    "\n",
    "mse = torchmetrics.MeanSquaredError()\n",
    "time_arr = []\n",
    "start_time = time.time()\n",
    "    \n",
    "# Model training\n",
    "with torch.no_grad(): # disabled gradient calculation because were doing it manually\n",
    "    for _ in tqdm(range(10)): # Number of iterations for all the samples\n",
    "        mse = torchmetrics.MeanSquaredError()\n",
    "        for i in [234, 110, 248, 9, 93, 219, 28, 198, 203, 101, 181, 255]:\n",
    "            pred = []\n",
    "            samples = matrix_1_sc[:, i:i+40]\n",
    "            labels = matrix_1_sc[:, i+40]\n",
    "            #print(f\"sample: {samples}, label:{labels}\")\n",
    "            #samples = samples.to(device) # pass sample and label (1 at a time)\n",
    "            #labels = labels.to(device)\n",
    "            \n",
    "            for n in range(samples.shape[0]):\n",
    "                label = torch.tensor(labels[n])\n",
    "                sample = torch.tensor(samples[n, :])\n",
    "                #print(x)\n",
    "                #samples = \n",
    "                samples_hv = model.encode(sample) # Encode the inputs\n",
    "                #print(f\"sample_hv:{samples_hv}\")\n",
    "                model.model_update(samples_hv, label) # Pass input and label to train\n",
    "\n",
    "                predictions_testing = model(sample) # Pass samples from test to model (forward function)\n",
    "                pred.append(predictions_testing)\n",
    "                #predictions_testing = predictions_testing\n",
    "                #label = label\n",
    "                mse.update(predictions_testing, label.unsqueeze(dim=0))\n",
    "                #mse.update(predictions_testing.cpu(), label)\n",
    "            \n",
    "            #time_arr.append((time.time() - start_time, np.absolute(np.sum(labels-pred))))\n",
    "            time_arr.append(np.absolute(np.sum(labels-pred)))\n",
    "            #print(len(time_arr))\n",
    "\n",
    "        print(f\"Training mean squared error of training {(mse.compute().item()):.3f}\")\n",
    "        \n",
    "\n",
    "with torch.no_grad():\n",
    "    mse = torchmetrics.MeanSquaredError()\n",
    "    for i in tqdm([317, 139, 320]):\n",
    "        samples = matrix_1_sc[:, i:i+40]\n",
    "        print(samples.shape)\n",
    "        labels = matrix_1_sc[:, i+40]\n",
    "        print(labels.shape)\n",
    "        for n in range(samples.shape[0]):\n",
    "            label = torch.tensor(labels[n])\n",
    "            sample = torch.tensor(samples[n, :])\n",
    "            predictions = model(sample) # Pass samples from test to model (forward function)\n",
    "            #predictions = predictions * TARGET_STD + TARGET_MEAN # What is target\n",
    "            #labels = labels * TARGET_STD + TARGET_MEAN\n",
    "            mse.update(predictions, label.unsqueeze(dim=0))\n",
    "    \n",
    "\n",
    "print(f\"Testing mean squared error of testing {(mse.compute().item()):.3f}\")"
   ]
  },
  {
   "cell_type": "code",
   "execution_count": 96,
   "id": "0698ae8b",
   "metadata": {},
   "outputs": [],
   "source": [
    "time_arr2 = time_arr"
   ]
  },
  {
   "cell_type": "code",
   "execution_count": 54,
   "id": "167a0721",
   "metadata": {},
   "outputs": [
    {
     "name": "stderr",
     "output_type": "stream",
     "text": [
      "C:\\Users\\ivann\\AppData\\Local\\Temp\\ipykernel_8344\\43472370.py:8: FutureWarning: The input object of type 'Tensor' is an array-like implementing one of the corresponding protocols (`__array__`, `__array_interface__` or `__array_struct__`); but not a sequence (or 0-D). In the future, this object will be coerced as if it was first converted using `np.array(obj)`. To retain the old behaviour, you have to either modify the type 'Tensor', or assign to an empty array created with `np.empty(correct_shape, dtype=object)`.\n",
      "  yaxis_2 = np.array([i[1] for i in time_arr])\n",
      "C:\\Users\\ivann\\AppData\\Local\\Temp\\ipykernel_8344\\43472370.py:8: VisibleDeprecationWarning: Creating an ndarray from ragged nested sequences (which is a list-or-tuple of lists-or-tuples-or ndarrays with different lengths or shapes) is deprecated. If you meant to do this, you must specify 'dtype=object' when creating the ndarray.\n",
      "  yaxis_2 = np.array([i[1] for i in time_arr])\n"
     ]
    },
    {
     "data": {
      "image/png": "[encoded data removed]",
      "text/plain": [
       "<Figure size 432x288 with 1 Axes>"
      ]
     },
     "metadata": {
      "needs_background": "light"
     },
     "output_type": "display_data"
    }
   ],
   "source": [
    "import matplotlib.pyplot as plt\n",
    "import numpy as np\n",
    "\n",
    "# X axis parameter:\n",
    "time_axis_2 = np.array([i[0] for i in time_arr])\n",
    "\n",
    "# Y axis parameter:\n",
    "yaxis_2 = np.array([i[1] for i in time_arr])\n",
    "\n",
    "plt.plot(time_axis_1, yaxis_1, \"b\")\n",
    "plt.plot(time_axis_2, yaxis_2, \"r\")\n",
    "plt.xlim([0, 20])\n",
    "plt.show()"
   ]
  },
  {
   "cell_type": "code",
   "execution_count": 15,
   "id": "ca2ed8dd",
   "metadata": {},
   "outputs": [
    {
     "name": "stderr",
     "output_type": "stream",
     "text": [
      " 10%|████████▎                                                                          | 1/10 [00:03<00:28,  3.19s/it]"
     ]
    },
    {
     "name": "stdout",
     "output_type": "stream",
     "text": [
      "Testing mean squared error of training 0.020\n"
     ]
    },
    {
     "name": "stderr",
     "output_type": "stream",
     "text": [
      "\r\n",
      " 20%|████████████████▌                                                                  | 2/10 [00:06<00:24,  3.05s/it]"
     ]
    },
    {
     "name": "stdout",
     "output_type": "stream",
     "text": [
      "Testing mean squared error of training 0.018\n"
     ]
    },
    {
     "name": "stderr",
     "output_type": "stream",
     "text": [
      "\r\n",
      " 30%|████████████████████████▉                                                          | 3/10 [00:09<00:21,  3.03s/it]"
     ]
    },
    {
     "name": "stdout",
     "output_type": "stream",
     "text": [
      "Testing mean squared error of training 0.017\n"
     ]
    },
    {
     "name": "stderr",
     "output_type": "stream",
     "text": [
      "\r\n",
      " 40%|█████████████████████████████████▏                                                 | 4/10 [00:12<00:18,  3.00s/it]"
     ]
    },
    {
     "name": "stdout",
     "output_type": "stream",
     "text": [
      "Testing mean squared error of training 0.016\n"
     ]
    },
    {
     "name": "stderr",
     "output_type": "stream",
     "text": [
      "\r\n",
      " 50%|█████████████████████████████████████████▌                                         | 5/10 [00:15<00:15,  3.02s/it]"
     ]
    },
    {
     "name": "stdout",
     "output_type": "stream",
     "text": [
      "Testing mean squared error of training 0.015\n"
     ]
    },
    {
     "name": "stderr",
     "output_type": "stream",
     "text": [
      "\r\n",
      " 60%|█████████████████████████████████████████████████▊                                 | 6/10 [00:18<00:12,  3.01s/it]"
     ]
    },
    {
     "name": "stdout",
     "output_type": "stream",
     "text": [
      "Testing mean squared error of training 0.015\n"
     ]
    },
    {
     "name": "stderr",
     "output_type": "stream",
     "text": [
      "\r\n",
      " 70%|██████████████████████████████████████████████████████████                         | 7/10 [00:21<00:09,  3.01s/it]"
     ]
    },
    {
     "name": "stdout",
     "output_type": "stream",
     "text": [
      "Testing mean squared error of training 0.015\n"
     ]
    },
    {
     "name": "stderr",
     "output_type": "stream",
     "text": [
      "\r\n",
      " 80%|██████████████████████████████████████████████████████████████████▍                | 8/10 [00:24<00:05,  2.99s/it]"
     ]
    },
    {
     "name": "stdout",
     "output_type": "stream",
     "text": [
      "Testing mean squared error of training 0.015\n"
     ]
    },
    {
     "name": "stderr",
     "output_type": "stream",
     "text": [
      "\r\n",
      " 90%|██████████████████████████████████████████████████████████████████████████▋        | 9/10 [00:27<00:03,  3.02s/it]"
     ]
    },
    {
     "name": "stdout",
     "output_type": "stream",
     "text": [
      "Testing mean squared error of training 0.014\n"
     ]
    },
    {
     "name": "stderr",
     "output_type": "stream",
     "text": [
      "100%|██████████████████████████████████████████████████████████████████████████████████| 10/10 [00:30<00:00,  3.02s/it]\n"
     ]
    },
    {
     "name": "stdout",
     "output_type": "stream",
     "text": [
      "Testing mean squared error of training 0.014\n"
     ]
    },
    {
     "name": "stderr",
     "output_type": "stream",
     "text": [
      " 33%|████████████████████████████                                                        | 1/3 [00:00<00:00,  6.77it/s]"
     ]
    },
    {
     "name": "stdout",
     "output_type": "stream",
     "text": [
      "(314, 39)\n",
      "(314,)\n",
      "(314, 39)\n",
      "(314,)\n"
     ]
    },
    {
     "name": "stderr",
     "output_type": "stream",
     "text": [
      "100%|████████████████████████████████████████████████████████████████████████████████████| 3/3 [00:00<00:00,  7.04it/s]"
     ]
    },
    {
     "name": "stdout",
     "output_type": "stream",
     "text": [
      "(314, 39)\n",
      "(314,)\n",
      "Testing mean squared error of testing 0.014\n"
     ]
    },
    {
     "name": "stderr",
     "output_type": "stream",
     "text": [
      "\n"
     ]
    }
   ],
   "source": [
    "import math\n",
    "import torch\n",
    "import torch.nn as nn\n",
    "import torch.nn.functional as F\n",
    "import torch.utils.data as data\n",
    "\n",
    "# Note: this example requires the torchmetrics library: https://torchmetrics.readthedocs.io\n",
    "import torchmetrics\n",
    "from tqdm import tqdm\n",
    "\n",
    "from torchhd import functional\n",
    "from torchhd import embeddings\n",
    "\n",
    "d=10000\n",
    "\n",
    "# Model based on RegHD application for Single model regression -> No comparing which cluster\n",
    "class SingleModel_With_NonLinear_Scroll(nn.Module):\n",
    "    def __init__(self, num_classes, size):\n",
    "        super(SingleModel_With_NonLinear_Scroll, self).__init__()\n",
    "\n",
    "        self.lr = 0.00001 # alpha\n",
    "        self.M = torch.zeros(1, d).double() # Model initializes in 0\n",
    "        self.project = embeddings.Projection(size, d).double() # 5 features, 10000 dimensions = hypervectors like weights?\n",
    "        self.project.weight.data.normal_(0, 1) # Normal distributions mean=0.0, std=1.0\n",
    "        self.bias = nn.parameter.Parameter(torch.empty(d), requires_grad=False)\n",
    "        self.bias.data.uniform_(0, 2 * math.pi) # bias\n",
    "\n",
    "    def encode(self, x): # encoding a value\n",
    "        enc = self.project(x)\n",
    "        sample_hv = torch.cos(enc + self.bias)\n",
    "        return functional.hard_quantize(sample_hv)\n",
    "\n",
    "    def model_update(self, x, y): # update # y = no hv\n",
    "        update = self.M + self.lr * (y - (F.linear(x, self.M))) * x # Model + alpha*(Error)*(x)\n",
    "        #update = update.mean(0) # Mean by columns\n",
    "        self.M = update # New \n",
    "\n",
    "    def forward(self, x):\n",
    "        enc = self.encode(x)\n",
    "        res = F.linear(enc, self.M) # Multiply enc (x) * weights (Model) = Dot product\n",
    "        return res # Return the resolutions\n",
    "    \n",
    "model = SingleModel_With_NonLinear_Scroll(2, 39) # 1 class, 5\n",
    "#model = model.to(device)\n",
    "\n",
    "mse = torchmetrics.MeanSquaredError()\n",
    "    \n",
    "# Model training\n",
    "with torch.no_grad(): # disabled gradient calculation because were doing it manually\n",
    "    for _ in tqdm(range(10)): # Number of iterations for all the samples\n",
    "        for i in [234, 110, 248, 9, 93, 219, 28, 198, 203, 101, 181, 255]:\n",
    "            samples_in = matrix_1_sc[:, i:i+39]\n",
    "            labels_in = matrix_1_sc[:, i+39]\n",
    "            samples_out = matrix_1_sc[:, i+1:i+40]\n",
    "            labels_out = matrix_1_sc[:, i+40]\n",
    "            #print(f\"sample: {samples}, label:{labels}\")\n",
    "            #samples = samples.to(device) # pass sample and label (1 at a time)\n",
    "            #labels = labels.to(device)\n",
    "            \n",
    "            for n in range(samples_in.shape[0]): # for each single time series\n",
    "                label = torch.tensor(labels_in[n])\n",
    "                sample = torch.tensor(samples_in[n, :])\n",
    "                samples_hv = model.encode(sample) # Encode the inputs\n",
    "                #print(f\"sample_hv:{samples_hv}\")\n",
    "                model.model_update(samples_hv, label) # Pass input and label to train\n",
    "                \n",
    "                label = torch.tensor(labels_out[n])\n",
    "                sample = torch.tensor(samples_out[n, :])\n",
    "\n",
    "                predictions_testing = model(sample) # Pass samples from test to model (forward function)\n",
    "                #predictions_testing = predictions_testing\n",
    "                #label = label\n",
    "                mse.update(predictions_testing, label.unsqueeze(dim=0))\n",
    "                #mse.update(predictions_testing.cpu(), label)\n",
    "\n",
    "        print(f\"Testing mean squared error of training {(mse.compute().item()):.3f}\")\n",
    "        \n",
    "\n",
    "with torch.no_grad():\n",
    "    for i in tqdm([317, 139, 320]):\n",
    "        samples = matrix_1_sc[:, i:i+39]\n",
    "        print(samples.shape)\n",
    "        labels = matrix_1_sc[:, i+39]\n",
    "        print(labels.shape)\n",
    "        for n in range(samples.shape[0]):\n",
    "            label = torch.tensor(labels[n])\n",
    "            sample = torch.tensor(samples[n, :])\n",
    "            predictions = model(sample) # Pass samples from test to model (forward function)\n",
    "            #predictions = predictions * TARGET_STD + TARGET_MEAN # What is target\n",
    "            #labels = labels * TARGET_STD + TARGET_MEAN\n",
    "            mse.update(predictions, label.unsqueeze(dim=0))\n",
    "    \n",
    "\n",
    "print(f\"Testing mean squared error of testing {(mse.compute().item()):.3f}\")"
   ]
  },
  {
   "cell_type": "code",
   "execution_count": 82,
   "id": "c9dfcca5",
   "metadata": {},
   "outputs": [
    {
     "name": "stderr",
     "output_type": "stream",
     "text": [
      "  0%|                                                                                           | 0/12 [00:00<?, ?it/s]C:\\Users\\ivann\\AppData\\Local\\Temp\\ipykernel_8344\\805052351.py:16: UserWarning: To copy construct from a tensor, it is recommended to use sourceTensor.clone().detach() or sourceTensor.clone().detach().requires_grad_(True), rather than torch.tensor(sourceTensor).\n",
      "  data = torch.tensor(x) # Transform the whole time serie into tensors\n",
      "C:\\Users\\ivann\\AppData\\Local\\Temp\\ipykernel_8344\\805052351.py:70: FutureWarning: The input object of type 'Tensor' is an array-like implementing one of the corresponding protocols (`__array__`, `__array_interface__` or `__array_struct__`); but not a sequence (or 0-D). In the future, this object will be coerced as if it was first converted using `np.array(obj)`. To retain the old behaviour, you have to either modify the type 'Tensor', or assign to an empty array created with `np.empty(correct_shape, dtype=object)`.\n",
      "  time_arr.append(np.absolute(np.sum(labels-pred)))\n",
      "C:\\Users\\ivann\\AppData\\Local\\Temp\\ipykernel_8344\\805052351.py:70: VisibleDeprecationWarning: Creating an ndarray from ragged nested sequences (which is a list-or-tuple of lists-or-tuples-or ndarrays with different lengths or shapes) is deprecated. If you meant to do this, you must specify 'dtype=object' when creating the ndarray.\n",
      "  time_arr.append(np.absolute(np.sum(labels-pred)))\n",
      "  8%|██████▉                                                                            | 1/12 [00:48<08:51, 48.34s/it]"
     ]
    },
    {
     "name": "stdout",
     "output_type": "stream",
     "text": [
      "1\n"
     ]
    },
    {
     "name": "stderr",
     "output_type": "stream",
     "text": [
      "\r\n",
      " 17%|█████████████▊                                                                     | 2/12 [01:37<08:05, 48.53s/it]"
     ]
    },
    {
     "name": "stdout",
     "output_type": "stream",
     "text": [
      "2\n"
     ]
    },
    {
     "name": "stderr",
     "output_type": "stream",
     "text": [
      "\r\n",
      " 25%|████████████████████▊                                                              | 3/12 [02:25<07:17, 48.61s/it]"
     ]
    },
    {
     "name": "stdout",
     "output_type": "stream",
     "text": [
      "3\n"
     ]
    },
    {
     "name": "stderr",
     "output_type": "stream",
     "text": [
      "\r\n",
      " 33%|███████████████████████████▋                                                       | 4/12 [03:14<06:28, 48.54s/it]"
     ]
    },
    {
     "name": "stdout",
     "output_type": "stream",
     "text": [
      "4\n"
     ]
    },
    {
     "name": "stderr",
     "output_type": "stream",
     "text": [
      "\r\n",
      " 42%|██████████████████████████████████▌                                                | 5/12 [04:03<05:42, 48.91s/it]"
     ]
    },
    {
     "name": "stdout",
     "output_type": "stream",
     "text": [
      "5\n"
     ]
    },
    {
     "name": "stderr",
     "output_type": "stream",
     "text": [
      "\r\n",
      " 50%|█████████████████████████████████████████▌                                         | 6/12 [04:52<04:53, 48.92s/it]"
     ]
    },
    {
     "name": "stdout",
     "output_type": "stream",
     "text": [
      "6\n"
     ]
    },
    {
     "name": "stderr",
     "output_type": "stream",
     "text": [
      "\r\n",
      " 58%|████████████████████████████████████████████████▍                                  | 7/12 [05:41<04:03, 48.76s/it]"
     ]
    },
    {
     "name": "stdout",
     "output_type": "stream",
     "text": [
      "7\n"
     ]
    },
    {
     "name": "stderr",
     "output_type": "stream",
     "text": [
      "\r\n",
      " 67%|███████████████████████████████████████████████████████▎                           | 8/12 [06:30<03:15, 48.89s/it]"
     ]
    },
    {
     "name": "stdout",
     "output_type": "stream",
     "text": [
      "8\n"
     ]
    },
    {
     "name": "stderr",
     "output_type": "stream",
     "text": [
      "\r\n",
      " 75%|██████████████████████████████████████████████████████████████▎                    | 9/12 [07:19<02:26, 48.95s/it]"
     ]
    },
    {
     "name": "stdout",
     "output_type": "stream",
     "text": [
      "9\n"
     ]
    },
    {
     "name": "stderr",
     "output_type": "stream",
     "text": [
      "\r\n",
      " 83%|████████████████████████████████████████████████████████████████████▎             | 10/12 [08:08<01:37, 48.97s/it]"
     ]
    },
    {
     "name": "stdout",
     "output_type": "stream",
     "text": [
      "10\n"
     ]
    },
    {
     "name": "stderr",
     "output_type": "stream",
     "text": [
      "\r\n",
      " 92%|███████████████████████████████████████████████████████████████████████████▏      | 11/12 [08:57<00:48, 48.96s/it]"
     ]
    },
    {
     "name": "stdout",
     "output_type": "stream",
     "text": [
      "11\n"
     ]
    },
    {
     "name": "stderr",
     "output_type": "stream",
     "text": [
      "100%|██████████████████████████████████████████████████████████████████████████████████| 12/12 [09:46<00:00, 48.88s/it]\n"
     ]
    },
    {
     "name": "stdout",
     "output_type": "stream",
     "text": [
      "12\n",
      "Training mean squared error of training 0.112\n"
     ]
    },
    {
     "name": "stderr",
     "output_type": "stream",
     "text": [
      "\r\n",
      "  0%|                                                                                            | 0/3 [00:00<?, ?it/s]"
     ]
    },
    {
     "name": "stdout",
     "output_type": "stream",
     "text": [
      "(314, 40)\n",
      "(314,)\n"
     ]
    },
    {
     "name": "stderr",
     "output_type": "stream",
     "text": [
      "\r\n",
      " 33%|████████████████████████████                                                        | 1/3 [00:24<00:48, 24.46s/it]"
     ]
    },
    {
     "name": "stdout",
     "output_type": "stream",
     "text": [
      "(314, 40)\n",
      "(314,)\n"
     ]
    },
    {
     "name": "stderr",
     "output_type": "stream",
     "text": [
      "\r\n",
      " 67%|████████████████████████████████████████████████████████                            | 2/3 [00:49<00:24, 24.86s/it]"
     ]
    },
    {
     "name": "stdout",
     "output_type": "stream",
     "text": [
      "(314, 40)\n",
      "(314,)\n"
     ]
    },
    {
     "name": "stderr",
     "output_type": "stream",
     "text": [
      "100%|████████████████████████████████████████████████████████████████████████████████████| 3/3 [01:14<00:00, 24.82s/it]"
     ]
    },
    {
     "name": "stdout",
     "output_type": "stream",
     "text": [
      "Testing mean squared error of testing 0.117\n"
     ]
    },
    {
     "name": "stderr",
     "output_type": "stream",
     "text": [
      "\n"
     ]
    }
   ],
   "source": [
    "# Model based on RegHD application for Single model regression -> No comparing which cluster\n",
    "class SingleModel_With_NonLinear(nn.Module):\n",
    "    def __init__(self, num_classes, size):\n",
    "        super(SingleModel_With_NonLinear, self).__init__()\n",
    "\n",
    "        self.lr = 0.00001 # alpha\n",
    "        self.M = torch.zeros(1, d) # Model initializes in 0\n",
    "        self.project = embeddings.Projection(size, d) # 5 features, 10000 dimensions = hypervectors like weights?\n",
    "        self.project.weight.data.normal_(0, 1) # Normal distributions mean=0.0, std=1.0\n",
    "        self.bias = nn.parameter.Parameter(torch.empty(d), requires_grad=False)\n",
    "        self.bias.data.uniform_(0, 2 * math.pi) # bias\n",
    "\n",
    "    def encode(self, x): # encoding a value\n",
    "        level = embeddings.Level(1000, d, low=0, high=1) # Just because 0 - 1 with a .001 precision\n",
    "        vector_hv = torch.zeros(d)\n",
    "        data = torch.tensor(x) # Transform the whole time serie into tensors\n",
    "        ts_hv = level(data) # Transform the whole time serie into hvs\n",
    "        for i in range(len(ts_hv)): # for each hv = number in the timeseries\n",
    "            for _ in range(i):\n",
    "                functional.permute(ts_hv[i])\n",
    "            vector_hv = functional.bundle(vector_hv, ts_hv[i])\n",
    "        return functional.hard_quantize(vector_hv)\n",
    "\n",
    "    def model_update(self, x, y): # update # y = no hv\n",
    "        update = self.M + self.lr * (y - (F.linear(x, self.M))) * x # Model + alpha*(Error)*(x)\n",
    "        #update = update.mean(0) # Mean by columns\n",
    "        self.M = update # New \n",
    "\n",
    "    def forward(self, x):\n",
    "        enc = self.encode(x)\n",
    "        res = F.linear(enc, self.M) # Multiply enc (x) * weights (Model) = Dot product\n",
    "        return res # Return the resolutions\n",
    "    \n",
    "model = SingleModel_With_NonLinear(2, 40) # 1 class, 5\n",
    "#model = model.to(device)\n",
    "\n",
    "mse = torchmetrics.MeanSquaredError()\n",
    "time_arr = []\n",
    "start_time = time.time()\n",
    "    \n",
    "# Model training\n",
    "with torch.no_grad(): # disabled gradient calculation because were doing it manually\n",
    "    for _ in range(1): # Number of iterations for all the samples\n",
    "        mse = torchmetrics.MeanSquaredError()\n",
    "        for i in tqdm([234, 110, 248, 9, 93, 219, 28, 198, 203, 101, 181, 255]):\n",
    "            pred = []\n",
    "            samples = matrix_1_sc[:, i:i+40]\n",
    "            labels = matrix_1_sc[:, i+40]\n",
    "            #print(f\"sample: {samples}, label:{labels}\")\n",
    "            #samples = samples.to(device) # pass sample and label (1 at a time)\n",
    "            #labels = labels.to(device)\n",
    "            \n",
    "            for n in range(samples.shape[0]):\n",
    "                label = torch.tensor(labels[n])\n",
    "                sample = torch.tensor(samples[n, :])\n",
    "                #print(x)\n",
    "                #samples = \n",
    "                samples_hv = model.encode(sample) # Encode the inputs\n",
    "                #print(f\"sample_hv:{samples_hv}\")\n",
    "                model.model_update(samples_hv, label) # Pass input and label to train\n",
    "\n",
    "                predictions_testing = model(sample) # Pass samples from test to model (forward function)\n",
    "                pred.append(predictions_testing)\n",
    "                #predictions_testing = predictions_testing\n",
    "                #label = label\n",
    "                mse.update(predictions_testing, label.unsqueeze(dim=0))\n",
    "                #mse.update(predictions_testing.cpu(), label)\n",
    "            \n",
    "            #time_arr.append((time.time() - start_time, np.absolute(np.sum(labels-pred))))\n",
    "            time_arr.append(np.absolute(np.sum(labels-pred)))\n",
    "            print(len(time_arr))\n",
    "\n",
    "        print(f\"Training mean squared error of training {(mse.compute().item()):.3f}\")        \n",
    "\n",
    "with torch.no_grad():\n",
    "    for i in tqdm([317, 139, 320]):\n",
    "        samples = matrix_1_sc[:, i:i+40]\n",
    "        print(samples.shape)\n",
    "        labels = matrix_1_sc[:, i+40]\n",
    "        print(labels.shape)\n",
    "        for n in range(samples.shape[0]):\n",
    "            label = torch.tensor(labels[n])\n",
    "            sample = torch.tensor(samples[n, :])\n",
    "            predictions = model(sample) # Pass samples from test to model (forward function)\n",
    "            #predictions = predictions * TARGET_STD + TARGET_MEAN # What is target\n",
    "            #labels = labels * TARGET_STD + TARGET_MEAN\n",
    "            mse.update(predictions, label.unsqueeze(dim=0))\n",
    "    \n",
    "\n",
    "print(f\"Testing mean squared error of testing {(mse.compute().item()):.3f}\")"
   ]
  },
  {
   "cell_type": "code",
   "execution_count": 83,
   "id": "1a1ce1fa",
   "metadata": {},
   "outputs": [],
   "source": [
    "time_arr3 = time_arr"
   ]
  },
  {
   "cell_type": "code",
   "execution_count": 77,
   "id": "e807c699",
   "metadata": {
    "scrolled": true
   },
   "outputs": [
    {
     "name": "stderr",
     "output_type": "stream",
     "text": [
      "C:\\Users\\ivann\\AppData\\Local\\Temp\\ipykernel_8344\\2956605797.py:8: FutureWarning: The input object of type 'Tensor' is an array-like implementing one of the corresponding protocols (`__array__`, `__array_interface__` or `__array_struct__`); but not a sequence (or 0-D). In the future, this object will be coerced as if it was first converted using `np.array(obj)`. To retain the old behaviour, you have to either modify the type 'Tensor', or assign to an empty array created with `np.empty(correct_shape, dtype=object)`.\n",
      "  yaxis_3 = np.array([i[1] for i in time_arr])\n",
      "C:\\Users\\ivann\\AppData\\Local\\Temp\\ipykernel_8344\\2956605797.py:8: VisibleDeprecationWarning: Creating an ndarray from ragged nested sequences (which is a list-or-tuple of lists-or-tuples-or ndarrays with different lengths or shapes) is deprecated. If you meant to do this, you must specify 'dtype=object' when creating the ndarray.\n",
      "  yaxis_3 = np.array([i[1] for i in time_arr])\n"
     ]
    },
    {
     "data": {
      "image/png": "[encoded data removed]",
      "text/plain": [
       "<Figure size 432x288 with 1 Axes>"
      ]
     },
     "metadata": {
      "needs_background": "light"
     },
     "output_type": "display_data"
    }
   ],
   "source": [
    "import matplotlib.pyplot as plt\n",
    "import numpy as np\n",
    "\n",
    "# X axis parameter:\n",
    "time_axis_3 = np.array([i[0] for i in time_arr])\n",
    "\n",
    "# Y axis parameter:\n",
    "yaxis_3 = np.array([i[1] for i in time_arr])\n",
    "\n",
    "min_0 = time_axis_3.min()\n",
    "\n",
    "plt.title(\"Time VS Diffrence\")\n",
    "plt.plot(time_axis_1, yaxis_1, \"b\")\n",
    "plt.plot(time_axis_2, yaxis_2, \"r\")\n",
    "plt.plot(time_axis_3-min_0, yaxis_3, \"g\")\n",
    "plt.legend([\"cos*sin\", 'cos', \"permute\"])\n",
    "plt.xlim([0, 20])\n",
    "plt.ylim([0, 80])\n",
    "plt.show()"
   ]
  },
  {
   "cell_type": "code",
   "execution_count": 91,
   "id": "75d593a1",
   "metadata": {},
   "outputs": [
    {
     "data": {
      "image/png": "[encoded data removed]",
      "text/plain": [
       "<Figure size 432x288 with 1 Axes>"
      ]
     },
     "metadata": {
      "needs_background": "light"
     },
     "output_type": "display_data"
    }
   ],
   "source": [
    "import matplotlib.pyplot as plt\n",
    "import numpy as np\n",
    "\n",
    "plt.title(\"Iteration VS Diffrence\")\n",
    "plt.plot(time_arr1)\n",
    "plt.plot(time_arr2)\n",
    "plt.legend([\"cos*sin\", 'cos'])\n",
    "plt.show()"
   ]
  },
  {
   "cell_type": "code",
   "execution_count": 97,
   "id": "2e209b19",
   "metadata": {},
   "outputs": [
    {
     "data": {
      "image/png": "[encoded data removed]",
      "text/plain": [
       "<Figure size 432x288 with 1 Axes>"
      ]
     },
     "metadata": {
      "needs_background": "light"
     },
     "output_type": "display_data"
    }
   ],
   "source": [
    "import matplotlib.pyplot as plt\n",
    "import numpy as np\n",
    "\n",
    "plt.title(\"Iteration VS Diffrence\")\n",
    "plt.plot(time_arr1)\n",
    "plt.plot(time_arr2)\n",
    "plt.plot(time_arr3)\n",
    "plt.legend([\"cos*sin\", 'cos', \"permutate\"])\n",
    "plt.show()"
   ]
  },
  {
   "cell_type": "code",
   "execution_count": 15,
   "id": "ccbbdcaf",
   "metadata": {},
   "outputs": [
    {
     "name": "stderr",
     "output_type": "stream",
     "text": [
      " 10%|████████▎                                                                          | 1/10 [00:03<00:28,  3.19s/it]"
     ]
    },
    {
     "name": "stdout",
     "output_type": "stream",
     "text": [
      "Testing mean squared error of training 0.020\n"
     ]
    },
    {
     "name": "stderr",
     "output_type": "stream",
     "text": [
      "\r\n",
      " 20%|████████████████▌                                                                  | 2/10 [00:06<00:24,  3.05s/it]"
     ]
    },
    {
     "name": "stdout",
     "output_type": "stream",
     "text": [
      "Testing mean squared error of training 0.018\n"
     ]
    },
    {
     "name": "stderr",
     "output_type": "stream",
     "text": [
      "\r\n",
      " 30%|████████████████████████▉                                                          | 3/10 [00:09<00:21,  3.03s/it]"
     ]
    },
    {
     "name": "stdout",
     "output_type": "stream",
     "text": [
      "Testing mean squared error of training 0.017\n"
     ]
    },
    {
     "name": "stderr",
     "output_type": "stream",
     "text": [
      "\r\n",
      " 40%|█████████████████████████████████▏                                                 | 4/10 [00:12<00:18,  3.00s/it]"
     ]
    },
    {
     "name": "stdout",
     "output_type": "stream",
     "text": [
      "Testing mean squared error of training 0.016\n"
     ]
    },
    {
     "name": "stderr",
     "output_type": "stream",
     "text": [
      "\r\n",
      " 50%|█████████████████████████████████████████▌                                         | 5/10 [00:15<00:15,  3.02s/it]"
     ]
    },
    {
     "name": "stdout",
     "output_type": "stream",
     "text": [
      "Testing mean squared error of training 0.015\n"
     ]
    },
    {
     "name": "stderr",
     "output_type": "stream",
     "text": [
      "\r\n",
      " 60%|█████████████████████████████████████████████████▊                                 | 6/10 [00:18<00:12,  3.01s/it]"
     ]
    },
    {
     "name": "stdout",
     "output_type": "stream",
     "text": [
      "Testing mean squared error of training 0.015\n"
     ]
    },
    {
     "name": "stderr",
     "output_type": "stream",
     "text": [
      "\r\n",
      " 70%|██████████████████████████████████████████████████████████                         | 7/10 [00:21<00:09,  3.01s/it]"
     ]
    },
    {
     "name": "stdout",
     "output_type": "stream",
     "text": [
      "Testing mean squared error of training 0.015\n"
     ]
    },
    {
     "name": "stderr",
     "output_type": "stream",
     "text": [
      "\r\n",
      " 80%|██████████████████████████████████████████████████████████████████▍                | 8/10 [00:24<00:05,  2.99s/it]"
     ]
    },
    {
     "name": "stdout",
     "output_type": "stream",
     "text": [
      "Testing mean squared error of training 0.015\n"
     ]
    },
    {
     "name": "stderr",
     "output_type": "stream",
     "text": [
      "\r\n",
      " 90%|██████████████████████████████████████████████████████████████████████████▋        | 9/10 [00:27<00:03,  3.02s/it]"
     ]
    },
    {
     "name": "stdout",
     "output_type": "stream",
     "text": [
      "Testing mean squared error of training 0.014\n"
     ]
    },
    {
     "name": "stderr",
     "output_type": "stream",
     "text": [
      "100%|██████████████████████████████████████████████████████████████████████████████████| 10/10 [00:30<00:00,  3.02s/it]\n"
     ]
    },
    {
     "name": "stdout",
     "output_type": "stream",
     "text": [
      "Testing mean squared error of training 0.014\n"
     ]
    },
    {
     "name": "stderr",
     "output_type": "stream",
     "text": [
      " 33%|████████████████████████████                                                        | 1/3 [00:00<00:00,  6.77it/s]"
     ]
    },
    {
     "name": "stdout",
     "output_type": "stream",
     "text": [
      "(314, 39)\n",
      "(314,)\n",
      "(314, 39)\n",
      "(314,)\n"
     ]
    },
    {
     "name": "stderr",
     "output_type": "stream",
     "text": [
      "100%|████████████████████████████████████████████████████████████████████████████████████| 3/3 [00:00<00:00,  7.04it/s]"
     ]
    },
    {
     "name": "stdout",
     "output_type": "stream",
     "text": [
      "(314, 39)\n",
      "(314,)\n",
      "Testing mean squared error of testing 0.014\n"
     ]
    },
    {
     "name": "stderr",
     "output_type": "stream",
     "text": [
      "\n"
     ]
    }
   ],
   "source": [
    "import math\n",
    "import torch\n",
    "import torch.nn as nn\n",
    "import torch.nn.functional as F\n",
    "import torch.utils.data as data\n",
    "\n",
    "# Note: this example requires the torchmetrics library: https://torchmetrics.readthedocs.io\n",
    "import torchmetrics\n",
    "from tqdm import tqdm\n",
    "\n",
    "from torchhd import functional\n",
    "from torchhd import embeddings\n",
    "\n",
    "d=10000\n",
    "\n",
    "# Model based on RegHD application for Single model regression -> No comparing which cluster\n",
    "class SingleModel_With_NonLinear_Scroll(nn.Module):\n",
    "    def __init__(self, num_classes, size):\n",
    "        super(SingleModel_With_NonLinear_Scroll, self).__init__()\n",
    "\n",
    "        self.lr = 0.00001 # alpha\n",
    "        self.M = torch.zeros(1, d).double() # Model initializes in 0\n",
    "        self.project = embeddings.Projection(size, d).double() # 5 features, 10000 dimensions = hypervectors like weights?\n",
    "        self.project.weight.data.normal_(0, 1) # Normal distributions mean=0.0, std=1.0\n",
    "        self.bias = nn.parameter.Parameter(torch.empty(d), requires_grad=False)\n",
    "        self.bias.data.uniform_(0, 2 * math.pi) # bias\n",
    "\n",
    "    def encode(self, x): # encoding a value\n",
    "        enc = self.project(x)\n",
    "        sample_hv = torch.cos(enc + self.bias)\n",
    "        return functional.hard_quantize(sample_hv)\n",
    "\n",
    "    def model_update(self, x, y): # update # y = no hv\n",
    "        update = self.M + self.lr * (y - (F.linear(x, self.M))) * x # Model + alpha*(Error)*(x)\n",
    "        #update = update.mean(0) # Mean by columns\n",
    "        self.M = update # New \n",
    "\n",
    "    def forward(self, x):\n",
    "        enc = self.encode(x)\n",
    "        res = F.linear(enc, self.M) # Multiply enc (x) * weights (Model) = Dot product\n",
    "        return res # Return the resolutions\n",
    "    \n",
    "model = SingleModel_With_NonLinear_Scroll(2, 39) # 1 class, 5\n",
    "#model = model.to(device)\n",
    "\n",
    "mse = torchmetrics.MeanSquaredError()\n",
    "    \n",
    "# Model training\n",
    "with torch.no_grad(): # disabled gradient calculation because were doing it manually\n",
    "    for _ in tqdm(range(10)): # Number of iterations for all the samples\n",
    "        for i in [234, 110, 248, 9, 93, 219, 28, 198, 203, 101, 181, 255]:\n",
    "            samples_in = matrix_1_sc[:, i:i+39]\n",
    "            labels_in = matrix_1_sc[:, i+39]\n",
    "            samples_out = matrix_1_sc[:, i+1:i+40]\n",
    "            labels_out = matrix_1_sc[:, i+40]\n",
    "            #print(f\"sample: {samples}, label:{labels}\")\n",
    "            #samples = samples.to(device) # pass sample and label (1 at a time)\n",
    "            #labels = labels.to(device)\n",
    "            \n",
    "            for n in range(samples_in.shape[0]): # for each single time series\n",
    "                label = torch.tensor(labels_in[n])\n",
    "                sample = torch.tensor(samples_in[n, :])\n",
    "                samples_hv = model.encode(sample) # Encode the inputs\n",
    "                #print(f\"sample_hv:{samples_hv}\")\n",
    "                model.model_update(samples_hv, label) # Pass input and label to train\n",
    "                \n",
    "                label = torch.tensor(labels_out[n])\n",
    "                sample = torch.tensor(samples_out[n, :])\n",
    "\n",
    "                predictions_testing = model(sample) # Pass samples from test to model (forward function)\n",
    "                #predictions_testing = predictions_testing\n",
    "                #label = label\n",
    "                mse.update(predictions_testing, label.unsqueeze(dim=0))\n",
    "                #mse.update(predictions_testing.cpu(), label)\n",
    "\n",
    "        print(f\"Testing mean squared error of training {(mse.compute().item()):.3f}\")\n",
    "        \n",
    "\n",
    "with torch.no_grad():\n",
    "    for i in tqdm([317, 139, 320]):\n",
    "        samples = matrix_1_sc[:, i:i+39]\n",
    "        print(samples.shape)\n",
    "        labels = matrix_1_sc[:, i+39]\n",
    "        print(labels.shape)\n",
    "        for n in range(samples.shape[0]):\n",
    "            label = torch.tensor(labels[n])\n",
    "            sample = torch.tensor(samples[n, :])\n",
    "            predictions = model(sample) # Pass samples from test to model (forward function)\n",
    "            #predictions = predictions * TARGET_STD + TARGET_MEAN # What is target\n",
    "            #labels = labels * TARGET_STD + TARGET_MEAN\n",
    "            mse.update(predictions, label.unsqueeze(dim=0))\n",
    "    \n",
    "\n",
    "print(f\"Testing mean squared error of testing {(mse.compute().item()):.3f}\")"
   ]
  },
  {
   "cell_type": "code",
   "execution_count": 15,
   "id": "c9cd554c",
   "metadata": {},
   "outputs": [
    {
     "name": "stderr",
     "output_type": "stream",
     "text": [
      " 10%|████████▎                                                                          | 1/10 [00:03<00:28,  3.19s/it]"
     ]
    },
    {
     "name": "stdout",
     "output_type": "stream",
     "text": [
      "Testing mean squared error of training 0.020\n"
     ]
    },
    {
     "name": "stderr",
     "output_type": "stream",
     "text": [
      "\r\n",
      " 20%|████████████████▌                                                                  | 2/10 [00:06<00:24,  3.05s/it]"
     ]
    },
    {
     "name": "stdout",
     "output_type": "stream",
     "text": [
      "Testing mean squared error of training 0.018\n"
     ]
    },
    {
     "name": "stderr",
     "output_type": "stream",
     "text": [
      "\r\n",
      " 30%|████████████████████████▉                                                          | 3/10 [00:09<00:21,  3.03s/it]"
     ]
    },
    {
     "name": "stdout",
     "output_type": "stream",
     "text": [
      "Testing mean squared error of training 0.017\n"
     ]
    },
    {
     "name": "stderr",
     "output_type": "stream",
     "text": [
      "\r\n",
      " 40%|█████████████████████████████████▏                                                 | 4/10 [00:12<00:18,  3.00s/it]"
     ]
    },
    {
     "name": "stdout",
     "output_type": "stream",
     "text": [
      "Testing mean squared error of training 0.016\n"
     ]
    },
    {
     "name": "stderr",
     "output_type": "stream",
     "text": [
      "\r\n",
      " 50%|█████████████████████████████████████████▌                                         | 5/10 [00:15<00:15,  3.02s/it]"
     ]
    },
    {
     "name": "stdout",
     "output_type": "stream",
     "text": [
      "Testing mean squared error of training 0.015\n"
     ]
    },
    {
     "name": "stderr",
     "output_type": "stream",
     "text": [
      "\r\n",
      " 60%|█████████████████████████████████████████████████▊                                 | 6/10 [00:18<00:12,  3.01s/it]"
     ]
    },
    {
     "name": "stdout",
     "output_type": "stream",
     "text": [
      "Testing mean squared error of training 0.015\n"
     ]
    },
    {
     "name": "stderr",
     "output_type": "stream",
     "text": [
      "\r\n",
      " 70%|██████████████████████████████████████████████████████████                         | 7/10 [00:21<00:09,  3.01s/it]"
     ]
    },
    {
     "name": "stdout",
     "output_type": "stream",
     "text": [
      "Testing mean squared error of training 0.015\n"
     ]
    },
    {
     "name": "stderr",
     "output_type": "stream",
     "text": [
      "\r\n",
      " 80%|██████████████████████████████████████████████████████████████████▍                | 8/10 [00:24<00:05,  2.99s/it]"
     ]
    },
    {
     "name": "stdout",
     "output_type": "stream",
     "text": [
      "Testing mean squared error of training 0.015\n"
     ]
    },
    {
     "name": "stderr",
     "output_type": "stream",
     "text": [
      "\r\n",
      " 90%|██████████████████████████████████████████████████████████████████████████▋        | 9/10 [00:27<00:03,  3.02s/it]"
     ]
    },
    {
     "name": "stdout",
     "output_type": "stream",
     "text": [
      "Testing mean squared error of training 0.014\n"
     ]
    },
    {
     "name": "stderr",
     "output_type": "stream",
     "text": [
      "100%|██████████████████████████████████████████████████████████████████████████████████| 10/10 [00:30<00:00,  3.02s/it]\n"
     ]
    },
    {
     "name": "stdout",
     "output_type": "stream",
     "text": [
      "Testing mean squared error of training 0.014\n"
     ]
    },
    {
     "name": "stderr",
     "output_type": "stream",
     "text": [
      " 33%|████████████████████████████                                                        | 1/3 [00:00<00:00,  6.77it/s]"
     ]
    },
    {
     "name": "stdout",
     "output_type": "stream",
     "text": [
      "(314, 39)\n",
      "(314,)\n",
      "(314, 39)\n",
      "(314,)\n"
     ]
    },
    {
     "name": "stderr",
     "output_type": "stream",
     "text": [
      "100%|████████████████████████████████████████████████████████████████████████████████████| 3/3 [00:00<00:00,  7.04it/s]"
     ]
    },
    {
     "name": "stdout",
     "output_type": "stream",
     "text": [
      "(314, 39)\n",
      "(314,)\n",
      "Testing mean squared error of testing 0.014\n"
     ]
    },
    {
     "name": "stderr",
     "output_type": "stream",
     "text": [
      "\n"
     ]
    }
   ],
   "source": [
    "import math\n",
    "import torch\n",
    "import torch.nn as nn\n",
    "import torch.nn.functional as F\n",
    "import torch.utils.data as data\n",
    "\n",
    "# Note: this example requires the torchmetrics library: https://torchmetrics.readthedocs.io\n",
    "import torchmetrics\n",
    "from tqdm import tqdm\n",
    "\n",
    "from torchhd import functional\n",
    "from torchhd import embeddings\n",
    "\n",
    "d=10000\n",
    "\n",
    "# Model based on RegHD application for Single model regression -> No comparing which cluster\n",
    "class SingleModel_With_NonLinear_Scroll(nn.Module):\n",
    "    def __init__(self, num_classes, size):\n",
    "        super(SingleModel_With_NonLinear_Scroll, self).__init__()\n",
    "\n",
    "        self.lr = 0.00001 # alpha\n",
    "        self.M = torch.zeros(1, d).double() # Model initializes in 0\n",
    "        self.project = embeddings.Projection(size, d).double() # 5 features, 10000 dimensions = hypervectors like weights?\n",
    "        self.project.weight.data.normal_(0, 1) # Normal distributions mean=0.0, std=1.0\n",
    "        self.bias = nn.parameter.Parameter(torch.empty(d), requires_grad=False)\n",
    "        self.bias.data.uniform_(0, 2 * math.pi) # bias\n",
    "\n",
    "    def encode(self, x): # encoding a value\n",
    "        enc = self.project(x)\n",
    "        sample_hv = torch.cos(enc + self.bias)\n",
    "        return functional.hard_quantize(sample_hv)\n",
    "\n",
    "    def model_update(self, x, y): # update # y = no hv\n",
    "        update = self.M + self.lr * (y - (F.linear(x, self.M))) * x # Model + alpha*(Error)*(x)\n",
    "        #update = update.mean(0) # Mean by columns\n",
    "        self.M = update # New \n",
    "\n",
    "    def forward(self, x):\n",
    "        enc = self.encode(x)\n",
    "        res = F.linear(enc, self.M) # Multiply enc (x) * weights (Model) = Dot product\n",
    "        return res # Return the resolutions\n",
    "    \n",
    "model = SingleModel_With_NonLinear_Scroll(2, 39) # 1 class, 5\n",
    "#model = model.to(device)\n",
    "\n",
    "mse = torchmetrics.MeanSquaredError()\n",
    "    \n",
    "# Model training\n",
    "with torch.no_grad(): # disabled gradient calculation because were doing it manually\n",
    "    for _ in tqdm(range(10)): # Number of iterations for all the samples\n",
    "        for i in [234, 110, 248, 9, 93, 219, 28, 198, 203, 101, 181, 255]:\n",
    "            samples_in = matrix_1_sc[:, i:i+39]\n",
    "            labels_in = matrix_1_sc[:, i+39]\n",
    "            samples_out = matrix_1_sc[:, i+1:i+40]\n",
    "            labels_out = matrix_1_sc[:, i+40]\n",
    "            #print(f\"sample: {samples}, label:{labels}\")\n",
    "            #samples = samples.to(device) # pass sample and label (1 at a time)\n",
    "            #labels = labels.to(device)\n",
    "            \n",
    "            for n in range(samples_in.shape[0]): # for each single time series\n",
    "                label = torch.tensor(labels_in[n])\n",
    "                sample = torch.tensor(samples_in[n, :])\n",
    "                samples_hv = model.encode(sample) # Encode the inputs\n",
    "                #print(f\"sample_hv:{samples_hv}\")\n",
    "                model.model_update(samples_hv, label) # Pass input and label to train\n",
    "                \n",
    "                label = torch.tensor(labels_out[n])\n",
    "                sample = torch.tensor(samples_out[n, :])\n",
    "\n",
    "                predictions_testing = model(sample) # Pass samples from test to model (forward function)\n",
    "                #predictions_testing = predictions_testing\n",
    "                #label = label\n",
    "                mse.update(predictions_testing, label.unsqueeze(dim=0))\n",
    "                #mse.update(predictions_testing.cpu(), label)\n",
    "\n",
    "        print(f\"Testing mean squared error of training {(mse.compute().item()):.3f}\")\n",
    "        \n",
    "\n",
    "with torch.no_grad():\n",
    "    for i in tqdm([317, 139, 320]):\n",
    "        samples = matrix_1_sc[:, i:i+39]\n",
    "        print(samples.shape)\n",
    "        labels = matrix_1_sc[:, i+39]\n",
    "        print(labels.shape)\n",
    "        for n in range(samples.shape[0]):\n",
    "            label = torch.tensor(labels[n])\n",
    "            sample = torch.tensor(samples[n, :])\n",
    "            predictions = model(sample) # Pass samples from test to model (forward function)\n",
    "            #predictions = predictions * TARGET_STD + TARGET_MEAN # What is target\n",
    "            #labels = labels * TARGET_STD + TARGET_MEAN\n",
    "            mse.update(predictions, label.unsqueeze(dim=0))\n",
    "    \n",
    "\n",
    "print(f\"Testing mean squared error of testing {(mse.compute().item()):.3f}\")"
   ]
  },
  {
   "cell_type": "code",
   "execution_count": 15,
   "id": "40fc9d80",
   "metadata": {},
   "outputs": [
    {
     "name": "stderr",
     "output_type": "stream",
     "text": [
      " 10%|████████▎                                                                          | 1/10 [00:03<00:28,  3.19s/it]"
     ]
    },
    {
     "name": "stdout",
     "output_type": "stream",
     "text": [
      "Testing mean squared error of training 0.020\n"
     ]
    },
    {
     "name": "stderr",
     "output_type": "stream",
     "text": [
      "\r\n",
      " 20%|████████████████▌                                                                  | 2/10 [00:06<00:24,  3.05s/it]"
     ]
    },
    {
     "name": "stdout",
     "output_type": "stream",
     "text": [
      "Testing mean squared error of training 0.018\n"
     ]
    },
    {
     "name": "stderr",
     "output_type": "stream",
     "text": [
      "\r\n",
      " 30%|████████████████████████▉                                                          | 3/10 [00:09<00:21,  3.03s/it]"
     ]
    },
    {
     "name": "stdout",
     "output_type": "stream",
     "text": [
      "Testing mean squared error of training 0.017\n"
     ]
    },
    {
     "name": "stderr",
     "output_type": "stream",
     "text": [
      "\r\n",
      " 40%|█████████████████████████████████▏                                                 | 4/10 [00:12<00:18,  3.00s/it]"
     ]
    },
    {
     "name": "stdout",
     "output_type": "stream",
     "text": [
      "Testing mean squared error of training 0.016\n"
     ]
    },
    {
     "name": "stderr",
     "output_type": "stream",
     "text": [
      "\r\n",
      " 50%|█████████████████████████████████████████▌                                         | 5/10 [00:15<00:15,  3.02s/it]"
     ]
    },
    {
     "name": "stdout",
     "output_type": "stream",
     "text": [
      "Testing mean squared error of training 0.015\n"
     ]
    },
    {
     "name": "stderr",
     "output_type": "stream",
     "text": [
      "\r\n",
      " 60%|█████████████████████████████████████████████████▊                                 | 6/10 [00:18<00:12,  3.01s/it]"
     ]
    },
    {
     "name": "stdout",
     "output_type": "stream",
     "text": [
      "Testing mean squared error of training 0.015\n"
     ]
    },
    {
     "name": "stderr",
     "output_type": "stream",
     "text": [
      "\r\n",
      " 70%|██████████████████████████████████████████████████████████                         | 7/10 [00:21<00:09,  3.01s/it]"
     ]
    },
    {
     "name": "stdout",
     "output_type": "stream",
     "text": [
      "Testing mean squared error of training 0.015\n"
     ]
    },
    {
     "name": "stderr",
     "output_type": "stream",
     "text": [
      "\r\n",
      " 80%|██████████████████████████████████████████████████████████████████▍                | 8/10 [00:24<00:05,  2.99s/it]"
     ]
    },
    {
     "name": "stdout",
     "output_type": "stream",
     "text": [
      "Testing mean squared error of training 0.015\n"
     ]
    },
    {
     "name": "stderr",
     "output_type": "stream",
     "text": [
      "\r\n",
      " 90%|██████████████████████████████████████████████████████████████████████████▋        | 9/10 [00:27<00:03,  3.02s/it]"
     ]
    },
    {
     "name": "stdout",
     "output_type": "stream",
     "text": [
      "Testing mean squared error of training 0.014\n"
     ]
    },
    {
     "name": "stderr",
     "output_type": "stream",
     "text": [
      "100%|██████████████████████████████████████████████████████████████████████████████████| 10/10 [00:30<00:00,  3.02s/it]\n"
     ]
    },
    {
     "name": "stdout",
     "output_type": "stream",
     "text": [
      "Testing mean squared error of training 0.014\n"
     ]
    },
    {
     "name": "stderr",
     "output_type": "stream",
     "text": [
      " 33%|████████████████████████████                                                        | 1/3 [00:00<00:00,  6.77it/s]"
     ]
    },
    {
     "name": "stdout",
     "output_type": "stream",
     "text": [
      "(314, 39)\n",
      "(314,)\n",
      "(314, 39)\n",
      "(314,)\n"
     ]
    },
    {
     "name": "stderr",
     "output_type": "stream",
     "text": [
      "100%|████████████████████████████████████████████████████████████████████████████████████| 3/3 [00:00<00:00,  7.04it/s]"
     ]
    },
    {
     "name": "stdout",
     "output_type": "stream",
     "text": [
      "(314, 39)\n",
      "(314,)\n",
      "Testing mean squared error of testing 0.014\n"
     ]
    },
    {
     "name": "stderr",
     "output_type": "stream",
     "text": [
      "\n"
     ]
    }
   ],
   "source": [
    "import math\n",
    "import torch\n",
    "import torch.nn as nn\n",
    "import torch.nn.functional as F\n",
    "import torch.utils.data as data\n",
    "\n",
    "# Note: this example requires the torchmetrics library: https://torchmetrics.readthedocs.io\n",
    "import torchmetrics\n",
    "from tqdm import tqdm\n",
    "\n",
    "from torchhd import functional\n",
    "from torchhd import embeddings\n",
    "\n",
    "d=10000\n",
    "\n",
    "# Model based on RegHD application for Single model regression -> No comparing which cluster\n",
    "class SingleModel_With_NonLinear_Scroll(nn.Module):\n",
    "    def __init__(self, num_classes, size):\n",
    "        super(SingleModel_With_NonLinear_Scroll, self).__init__()\n",
    "\n",
    "        self.lr = 0.00001 # alpha\n",
    "        self.M = torch.zeros(1, d).double() # Model initializes in 0\n",
    "        self.project = embeddings.Projection(size, d).double() # 5 features, 10000 dimensions = hypervectors like weights?\n",
    "        self.project.weight.data.normal_(0, 1) # Normal distributions mean=0.0, std=1.0\n",
    "        self.bias = nn.parameter.Parameter(torch.empty(d), requires_grad=False)\n",
    "        self.bias.data.uniform_(0, 2 * math.pi) # bias\n",
    "\n",
    "    def encode(self, x): # encoding a value\n",
    "        enc = self.project(x)\n",
    "        sample_hv = torch.cos(enc + self.bias)\n",
    "        return functional.hard_quantize(sample_hv)\n",
    "\n",
    "    def model_update(self, x, y): # update # y = no hv\n",
    "        update = self.M + self.lr * (y - (F.linear(x, self.M))) * x # Model + alpha*(Error)*(x)\n",
    "        #update = update.mean(0) # Mean by columns\n",
    "        self.M = update # New \n",
    "\n",
    "    def forward(self, x):\n",
    "        enc = self.encode(x)\n",
    "        res = F.linear(enc, self.M) # Multiply enc (x) * weights (Model) = Dot product\n",
    "        return res # Return the resolutions\n",
    "    \n",
    "model = SingleModel_With_NonLinear_Scroll(2, 39) # 1 class, 5\n",
    "#model = model.to(device)\n",
    "\n",
    "mse = torchmetrics.MeanSquaredError()\n",
    "    \n",
    "# Model training\n",
    "with torch.no_grad(): # disabled gradient calculation because were doing it manually\n",
    "    for _ in tqdm(range(10)): # Number of iterations for all the samples\n",
    "        for i in [234, 110, 248, 9, 93, 219, 28, 198, 203, 101, 181, 255]:\n",
    "            samples_in = matrix_1_sc[:, i:i+39]\n",
    "            labels_in = matrix_1_sc[:, i+39]\n",
    "            samples_out = matrix_1_sc[:, i+1:i+40]\n",
    "            labels_out = matrix_1_sc[:, i+40]\n",
    "            #print(f\"sample: {samples}, label:{labels}\")\n",
    "            #samples = samples.to(device) # pass sample and label (1 at a time)\n",
    "            #labels = labels.to(device)\n",
    "            \n",
    "            for n in range(samples_in.shape[0]): # for each single time series\n",
    "                label = torch.tensor(labels_in[n])\n",
    "                sample = torch.tensor(samples_in[n, :])\n",
    "                samples_hv = model.encode(sample) # Encode the inputs\n",
    "                #print(f\"sample_hv:{samples_hv}\")\n",
    "                model.model_update(samples_hv, label) # Pass input and label to train\n",
    "                \n",
    "                label = torch.tensor(labels_out[n])\n",
    "                sample = torch.tensor(samples_out[n, :])\n",
    "\n",
    "                predictions_testing = model(sample) # Pass samples from test to model (forward function)\n",
    "                #predictions_testing = predictions_testing\n",
    "                #label = label\n",
    "                mse.update(predictions_testing, label.unsqueeze(dim=0))\n",
    "                #mse.update(predictions_testing.cpu(), label)\n",
    "\n",
    "        print(f\"Testing mean squared error of training {(mse.compute().item()):.3f}\")\n",
    "        \n",
    "\n",
    "with torch.no_grad():\n",
    "    for i in tqdm([317, 139, 320]):\n",
    "        samples = matrix_1_sc[:, i:i+39]\n",
    "        print(samples.shape)\n",
    "        labels = matrix_1_sc[:, i+39]\n",
    "        print(labels.shape)\n",
    "        for n in range(samples.shape[0]):\n",
    "            label = torch.tensor(labels[n])\n",
    "            sample = torch.tensor(samples[n, :])\n",
    "            predictions = model(sample) # Pass samples from test to model (forward function)\n",
    "            #predictions = predictions * TARGET_STD + TARGET_MEAN # What is target\n",
    "            #labels = labels * TARGET_STD + TARGET_MEAN\n",
    "            mse.update(predictions, label.unsqueeze(dim=0))\n",
    "    \n",
    "\n",
    "print(f\"Testing mean squared error of testing {(mse.compute().item()):.3f}\")"
   ]
  },
  {
   "cell_type": "code",
   "execution_count": null,
   "id": "dad5a954",
   "metadata": {},
   "outputs": [],
   "source": [
    "import math\n",
    "import torch\n",
    "import torch.nn as nn\n",
    "import torch.nn.functional as F\n",
    "import torch.utils.data as data\n",
    "\n",
    "# Note: this example requires the torchmetrics library: https://torchmetrics.readthedocs.io\n",
    "import torchmetrics\n",
    "from tqdm import tqdm\n",
    "\n",
    "from torchhd import functional\n",
    "from torchhd import embeddings\n",
    "\n",
    "d=10000\n",
    "\n",
    "# Model based on RegHD application for Single model regression -> No comparing which cluster\n",
    "class SingleModel_With_NonLinear_Scroll_2(nn.Module):\n",
    "    def __init__(self, num_classes, size):\n",
    "        super(SingleModel_With_NonLinear_Scroll_2, self).__init__()\n",
    "\n",
    "        self.lr = 0.00001 # alpha\n",
    "        self.M = torch.zeros(1, d).double() # Model initializes in 0\n",
    "        self.project = embeddings.Projection(size, d).double() # 5 features, 10000 dimensions = hypervectors like weights?\n",
    "        self.project.weight.data.normal_(0, 1) # Normal distributions mean=0.0, std=1.0\n",
    "        self.bias = nn.parameter.Parameter(torch.empty(d), requires_grad=False)\n",
    "        self.bias.data.uniform_(0, 2 * math.pi) # bias\n",
    "\n",
    "    def encode(self, x): # encoding a value\n",
    "        enc = self.project(x)\n",
    "        sample_hv = torch.cos(enc + self.bias)\n",
    "        return functional.hard_quantize(sample_hv)\n",
    "\n",
    "    def model_update(self, x, y): # update # y = no hv\n",
    "        update = self.M + self.lr * (y - (F.linear(x, self.M))) * x # Model + alpha*(Error)*(x)\n",
    "        #update = update.mean(0) # Mean by columns\n",
    "        self.M = update # New \n",
    "\n",
    "    def forward(self, x):\n",
    "        enc = self.encode(x)\n",
    "        res = F.linear(enc, self.M) # Multiply enc (x) * weights (Model) = Dot product\n",
    "        return res # Return the resolutions\n",
    "    \n",
    "model = SingleModel_With_NonLinear_Scroll(2, 39) # 1 class, 5\n",
    "#model = model.to(device)\n",
    "\n",
    "mse = torchmetrics.MeanSquaredError()\n",
    "    \n",
    "# Model training\n",
    "with torch.no_grad(): # disabled gradient calculation because were doing it manually\n",
    "    for _ in tqdm(range(10)): # Number of iterations for all the samples\n",
    "        for i in [234, 110, 248, 9, 93, 219, 28, 198, 203, 101, 181, 255]:\n",
    "            samples_in = matrix_1_sc[:, i:i+39]\n",
    "            labels_in = matrix_1_sc[:, i+39]\n",
    "            samples_out = matrix_1_sc[:, i+1:i+40]\n",
    "            labels_out = matrix_1_sc[:, i+40]\n",
    "            #print(f\"sample: {samples}, label:{labels}\")\n",
    "            #samples = samples.to(device) # pass sample and label (1 at a time)\n",
    "            #labels = labels.to(device)\n",
    "            \n",
    "            for n in range(samples_in.shape[0]): # for each single time series\n",
    "                label = torch.tensor(labels_in[n])\n",
    "                sample = torch.tensor(samples_in[n, :])\n",
    "                samples_hv = model.encode(sample) # Encode the inputs\n",
    "                #print(f\"sample_hv:{samples_hv}\")\n",
    "                model.model_update(samples_hv, label) # Pass input and label to train\n",
    "                \n",
    "                label = torch.tensor(labels_out[n])\n",
    "                sample = torch.tensor(samples_out[n, :])\n",
    "\n",
    "                predictions_testing = model(sample) # Pass samples from test to model (forward function)\n",
    "                #predictions_testing = predictions_testing\n",
    "                #label = label\n",
    "                mse.update(predictions_testing, label.unsqueeze(dim=0))\n",
    "                #mse.update(predictions_testing.cpu(), label)\n",
    "\n",
    "        print(f\"Testing mean squared error of training {(mse.compute().item()):.3f}\")\n",
    "        \n",
    "\n",
    "with torch.no_grad():\n",
    "    for i in tqdm([317, 139, 320]):\n",
    "        samples = matrix_1_sc[:, i:i+39]\n",
    "        print(samples.shape)\n",
    "        labels = matrix_1_sc[:, i+39]\n",
    "        print(labels.shape)\n",
    "        for n in range(samples.shape[0]):\n",
    "            label = torch.tensor(labels[n])\n",
    "            sample = torch.tensor(samples[n, :])\n",
    "            predictions = model(sample) # Pass samples from test to model (forward function)\n",
    "            #predictions = predictions * TARGET_STD + TARGET_MEAN # What is target\n",
    "            #labels = labels * TARGET_STD + TARGET_MEAN\n",
    "            mse.update(predictions, label.unsqueeze(dim=0))\n",
    "    \n",
    "\n",
    "print(f\"Testing mean squared error of testing {(mse.compute().item()):.3f}\")"
   ]
  }
 ],
 "metadata": {
  "kernelspec": {
   "display_name": "Python 3",
   "language": "python",
   "name": "python3"
  },
  "language_info": {
   "codemirror_mode": {
    "name": "ipython",
    "version": 3
   },
   "file_extension": ".py",
   "mimetype": "text/x-python",
   "name": "python",
   "nbconvert_exporter": "python",
   "pygments_lexer": "ipython3",
   "version": "3.9.1"
  },
  "vscode": {
   "interpreter": {
    "hash": "1f4355d1e6e02628526e02d8a7525523e3f9f91ec934b27df46575be5c15866f"
   }
  }
 },
 "nbformat": 4,
 "nbformat_minor": 5
}
