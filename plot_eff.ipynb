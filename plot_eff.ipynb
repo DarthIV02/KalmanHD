{
 "cells": [
  {
   "cell_type": "code",
   "execution_count": 17,
   "id": "bceea9d0",
   "metadata": {},
   "outputs": [],
   "source": [
    "def extract_time(input_str):\n",
    "    import re\n",
    "    data = re.split('m|s', input_str)\n",
    "    time = float(data[0]) * 60 + float(data[1])\n",
    "    return time\n",
    "\n",
    "def read_file(filename):\n",
    "    with open(filename, 'r') as f:\n",
    "        lines = f.readlines()\n",
    "        real_time = extract_time(lines[-3].split()[1])\n",
    "        user_time = extract_time(lines[-2].split()[1])\n",
    "        sys_time = extract_time(lines[-1].split()[1])\n",
    "    \n",
    "    return real_time #, user_time, sys_time"
   ]
  },
  {
   "cell_type": "code",
   "execution_count": 18,
   "id": "3eb06fd7",
   "metadata": {},
   "outputs": [
    {
     "name": "stdout",
     "output_type": "stream",
     "text": [
      "ElectricityLoadDiagrams \n",
      " {'DNN': 10933.271, 'KalmanFilter': 215.885, 'RegHD': 1284.071, 'VAE': 518.728, 'KalmanHD': 1550.215}\n",
      "EnergyConsumptionFraunhofer \n",
      " {'DNN': 3426.716, 'KalmanFilter': 70.758, 'RegHD': 259.442, 'VAE': 262.264, 'KalmanHD': 2783.195}\n",
      "GuangzhouTraffic \n",
      " {'DNN': 9408.843, 'KalmanFilter': 182.387, 'RegHD': 657.908, 'VAE': 532.539, 'KalmanHD': 4250.161}\n",
      "SanFranciscoTraffic \n",
      " {'DNN': 2312.281, 'KalmanFilter': 66.959, 'RegHD': 255.081, 'VAE': 156.007, 'KalmanHD': 2316.593}\n"
     ]
    }
   ],
   "source": [
    "# Read RPi results\n",
    "device = 'rpi'\n",
    "rpi_results = {}\n",
    "folder_name = '{}_results'.format(device)\n",
    "\n",
    "datasets = ['ElectricityLoadDiagrams', \n",
    "            'EnergyConsumptionFraunhofer', \n",
    "            'GuangzhouTraffic',\n",
    "            # 'MetroInterstateTrafficVolume', # Did not use because KalmanHD was not able to finish, on all platforms\n",
    "            'SanFranciscoTraffic']\n",
    "\n",
    "for dataset in datasets:\n",
    "    rpi_results[dataset] = {}\n",
    "    for method in ['DNN', 'KalmanFilter', 'RegHD', 'VAE', 'KalmanHD']:\n",
    "        folder_name = '{}_results'.format(device)\n",
    "        filename = folder_name + '/' + method + '_' + dataset\n",
    "        exec_time = read_file(filename)\n",
    "            \n",
    "        rpi_results[dataset][method] = exec_time\n",
    "        \n",
    "        \n",
    "    #for method in ['KalmanHD']:\n",
    "    #    print(method, dataset)\n",
    "    #    folder_name = '{}_results_2'.format(device)\n",
    "    #    filename = folder_name + '/' + method + '_' + dataset\n",
    "    #    exec_time = read_file(filename)\n",
    "            \n",
    "    #    rpi_results[dataset][method] = exec_time\n",
    "        \n",
    "            \n",
    "    print(dataset, '\\n', rpi_results[dataset])"
   ]
  },
  {
   "cell_type": "code",
   "execution_count": 19,
   "id": "a9c74f30",
   "metadata": {},
   "outputs": [
    {
     "name": "stdout",
     "output_type": "stream",
     "text": [
      "ElectricityLoadDiagrams \n",
      " {'DNN': 1885.358, 'KalmanFilter': 51.261, 'RegHD': 152.337, 'VAE': 1546.804, 'KalmanHD': 200.262}\n",
      "EnergyConsumptionFraunhofer \n",
      " {'DNN': 581.841, 'KalmanFilter': 17.184, 'RegHD': 45.144, 'VAE': 495.563, 'KalmanHD': 67.797}\n",
      "GuangzhouTraffic \n",
      " {'DNN': 1603.944, 'KalmanFilter': 43.593, 'RegHD': 110.054, 'VAE': 1321.815, 'KalmanHD': 196.323}\n",
      "SanFranciscoTraffic \n",
      " {'DNN': 393.652, 'KalmanFilter': 16.144, 'RegHD': 45.476, 'VAE': 323.446, 'KalmanHD': 55.169}\n"
     ]
    }
   ],
   "source": [
    "# Read CPU results\n",
    "device = 'cpu'\n",
    "cpu_results = {}\n",
    "folder_name = '{}_results'.format(device)\n",
    "\n",
    "datasets = ['ElectricityLoadDiagrams', \n",
    "            'EnergyConsumptionFraunhofer', \n",
    "            'GuangzhouTraffic',\n",
    "            # 'MetroInterstateTrafficVolume', # Did not use because KalmanHD was not able to finish, on all platforms\n",
    "            'SanFranciscoTraffic']\n",
    "\n",
    "for dataset in datasets:\n",
    "    cpu_results[dataset] = {}\n",
    "    for method in ['DNN', 'KalmanFilter', 'RegHD']:\n",
    "        folder_name = '{}_results'.format(device)\n",
    "        filename = folder_name + '/' + method + '_' + dataset\n",
    "        exec_time = read_file(filename)\n",
    "            \n",
    "        cpu_results[dataset][method] = exec_time\n",
    "        \n",
    "        \n",
    "    for method in ['VAE', 'KalmanHD']:\n",
    "        folder_name = '{}_results_2'.format(device)\n",
    "        filename = folder_name + '/' + method + '_' + dataset\n",
    "        exec_time = read_file(filename)\n",
    "            \n",
    "        cpu_results[dataset][method] = exec_time\n",
    "            \n",
    "    print(dataset, '\\n', cpu_results[dataset])"
   ]
  },
  {
   "cell_type": "code",
   "execution_count": 20,
   "id": "87155259",
   "metadata": {},
   "outputs": [
    {
     "name": "stdout",
     "output_type": "stream",
     "text": [
      "ElectricityLoadDiagrams \n",
      " {'DNN': 1915.083, 'VAE': 1529.882, 'KalmanFilter': 50.696, 'RegHD': 152.05700000000002, 'KalmanHD': 217.309}\n",
      "EnergyConsumptionFraunhofer \n",
      " {'DNN': 604.068, 'VAE': 486.68, 'KalmanFilter': 17.551, 'RegHD': 45.832, 'KalmanHD': 70.248}\n",
      "GuangzhouTraffic \n",
      " {'DNN': 1673.598, 'VAE': 1330.399, 'KalmanFilter': 42.403, 'RegHD': 109.84, 'KalmanHD': 178.84199999999998}\n",
      "SanFranciscoTraffic \n",
      " {'DNN': 408.84000000000003, 'VAE': 322.368, 'KalmanFilter': 16.148, 'RegHD': 44.828, 'KalmanHD': 56.088}\n"
     ]
    }
   ],
   "source": [
    "# Read GPU results\n",
    "device = 'gpu'\n",
    "gpu_results = {}\n",
    "folder_name = '{}_results'.format(device)\n",
    "\n",
    "datasets = ['ElectricityLoadDiagrams', \n",
    "            'EnergyConsumptionFraunhofer', \n",
    "            'GuangzhouTraffic',\n",
    "            # 'MetroInterstateTrafficVolume', # Did not use because KalmanHD was not able to finish, on all platforms\n",
    "            'SanFranciscoTraffic']\n",
    "methods = ['DNN', 'VAE', 'KalmanFilter', 'RegHD', 'KalmanHD']\n",
    "\n",
    "\n",
    "for dataset in datasets:\n",
    "    gpu_results[dataset] = {}\n",
    "    for method in methods:\n",
    "        filename = folder_name + '/' + method + '_' + dataset\n",
    "        exec_time = read_file(filename)\n",
    "            \n",
    "        gpu_results[dataset][method] = exec_time\n",
    "            \n",
    "    print(dataset, '\\n', gpu_results[dataset])"
   ]
  },
  {
   "cell_type": "code",
   "execution_count": 29,
   "id": "874a45cf",
   "metadata": {},
   "outputs": [
    {
     "name": "stderr",
     "output_type": "stream",
     "text": [
      "<ipython-input-29-1adf196c8ee1>:7: MatplotlibDeprecationWarning: The get_cmap function was deprecated in Matplotlib 3.7 and will be removed two minor releases later. Use ``matplotlib.colormaps[name]`` or ``matplotlib.colormaps.get_cmap(obj)`` instead.\n",
      "  return plt.cm.get_cmap(name, 10)\n"
     ]
    },
    {
     "data": {
      "image/png": "[encoded data removed]",
      "text/plain": [
       "<Figure size 576x180 with 2 Axes>"
      ]
     },
     "metadata": {
      "needs_background": "light"
     },
     "output_type": "display_data"
    }
   ],
   "source": [
    "\n",
    "import matplotlib.pyplot as plt\n",
    "import numpy as np\n",
    "\n",
    "def get_cmap(name='tab10'):\n",
    "    '''Returns a function that maps each index in 0, 1, ..., n-1 to a distinct\n",
    "    RGB color; the keyword argument name must be a standard mpl colormap name.'''\n",
    "    return plt.cm.get_cmap(name, 10)\n",
    "colors = get_cmap()\n",
    "\n",
    "platforms = ['RPi', 'CPU', 'GPU']\n",
    "x = np.arange(3)  # the label locations\n",
    "width = 0.15  # the width of the bars\n",
    "multiplier = 0\n",
    "\n",
    "fig = plt.figure(figsize=(8, 2.5))\n",
    "\n",
    "ax = fig.add_subplot(121)\n",
    "energy_datasets = ['ElectricityLoadDiagrams', 'EnergyConsumptionFraunhofer']\n",
    "methods = ['KalmanFilter', 'VAE', 'DNN', 'RegHD', 'KalmanHD']\n",
    "\n",
    "for method in methods:\n",
    "    offset = width * multiplier\n",
    "    rpi_data = np.array([rpi_results[dataset][method] for dataset in energy_datasets]).mean()\n",
    "    cpu_data = np.array([cpu_results[dataset][method] for dataset in energy_datasets]).mean()\n",
    "    gpu_data = np.array([gpu_results[dataset][method] for dataset in energy_datasets]).mean()\n",
    "    #print(rpi_data, cpu_data)\n",
    "    rects = ax.bar(x + offset, (rpi_data, cpu_data, gpu_data), width, color=colors(multiplier), label=method)\n",
    "    #ax.bar_label(rects, padding=3)\n",
    "    multiplier += 1\n",
    "\n",
    "# Add some text for labels, title and custom x-axis tick labels, etc.\n",
    "ax.set_yscale('log')\n",
    "ax.set_ylabel('Execution Time (s)', size=14)\n",
    "ax.xaxis.set_tick_params(labelsize=14)\n",
    "ax.yaxis.set_tick_params(labelsize=14)\n",
    "ax.set_xticks(x + width * 2, platforms)\n",
    "plt.title('Energy Datasets', fontsize=14)\n",
    "plt.rcParams.update({'font.size': 14})\n",
    "\n",
    "\n",
    "ax = fig.add_subplot(122)\n",
    "traffic_datasets = ['ElectricityLoadDiagrams', 'EnergyConsumptionFraunhofer']\n",
    "methods = ['KalmanFilter', 'RegHD', 'VAE', 'DNN', 'KalmanHD']\n",
    "methods_dict = {\n",
    "    'KalmanFilter': 'KF',\n",
    "    'VAE': 'PFVAE',\n",
    "    'RegHD': 'RegHD',\n",
    "    'DNN': 'E-Sense',\n",
    "    'KalmanHD': 'KalmanHD'\n",
    "    \n",
    "}\n",
    "multiplier = 0\n",
    "\n",
    "for method in methods:\n",
    "    offset = width * multiplier\n",
    "    rpi_data = np.array([rpi_results[dataset][method] for dataset in traffic_datasets]).mean()\n",
    "    cpu_data = np.array([cpu_results[dataset][method] for dataset in traffic_datasets]).mean()\n",
    "    gpu_data = np.array([gpu_results[dataset][method] for dataset in traffic_datasets]).mean()\n",
    "    #print(rpi_data, cpu_data)\n",
    "    rects = ax.bar(x + offset, (rpi_data, cpu_data, gpu_data), width, color=colors(multiplier), label=methods_dict[method])\n",
    "    #ax.bar_label(rects, padding=3)\n",
    "    multiplier += 1\n",
    "\n",
    "# Add some text for labels, title and custom x-axis tick labels, etc.\n",
    "ax.set_yscale('log')\n",
    "#ax.set_ylabel('Execution Time (s)', size=14)\n",
    "ax.xaxis.set_tick_params(labelsize=14)\n",
    "ax.yaxis.set_tick_params(labelsize=14)\n",
    "ax.set_xticks(x + width * 2, platforms)\n",
    "plt.title('Traffic Datasets', fontsize=14)\n",
    "plt.rcParams.update({'font.size': 14})\n",
    "\n",
    "plt.legend(bbox_to_anchor=(-0.2, 1.35), loc='upper center', ncol=5, borderaxespad=0.2, fontsize=14)\n",
    "#plt.tight_layout()\n",
    "plt.savefig('eff2.png', dpi=300, bbox_inches='tight')"
   ]
  },
  {
   "cell_type": "code",
   "execution_count": null,
   "id": "99dfad31",
   "metadata": {},
   "outputs": [],
   "source": []
  }
 ],
 "metadata": {
  "kernelspec": {
   "display_name": "Python 3",
   "language": "python",
   "name": "python3"
  },
  "language_info": {
   "codemirror_mode": {
    "name": "ipython",
    "version": 3
   },
   "file_extension": ".py",
   "mimetype": "text/x-python",
   "name": "python",
   "nbconvert_exporter": "python",
   "pygments_lexer": "ipython3",
   "version": "3.9.1"
  }
 },
 "nbformat": 4,
 "nbformat_minor": 5
}
